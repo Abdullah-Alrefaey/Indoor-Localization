{
 "cells": [
  {
   "cell_type": "markdown",
   "metadata": {},
   "source": [
    "# Localization System"
   ]
  },
  {
   "cell_type": "markdown",
   "metadata": {},
   "source": [
    "## Table of Content \n",
    "<ul>\n",
    "<li><a href=\"#intro\">Introduction</a></li>\n",
    "<li><a href=\"#wrangling\">Data Wrangling</a></li>\n",
    "<!-- <li><a href=\"#eda\">Exploratory Data Analysis</a></li> -->\n",
    "<li><a href=\"#model\"> Building a model </a></li>\n",
    "</ul>"
   ]
  },
  {
   "cell_type": "markdown",
   "metadata": {},
   "source": [
    "<a id='intro'></a>\n",
    "## Introduction \n",
    "Localziation system built using machine learning classifiers, data is collected at Cairo University Faculty of Engineering Biomedical Engineering Department. The Data is a collection of WiFi\\`s RSSI\\`s (dbm) of Wifi Networks available in the department. RSSI measurements represent the relative quality of a received signal on a device. RSSI indicates the power level being received after any possible loss at the antenna and cable level. The higher the RSSI value, the stronger the signal. When measured in negative numbers, the number that is closer to zero usually means better signal. As an example -50 is a pretty good signal, -75 - is fairly reasonable, and -100 is no signal at all. Identifying a patient\\`s location in a hospital is useful for many reasons one of which is to identify points of conjestions and try to rearrange the hospital survices, also used to identify how many patients are in the hospital. \n",
    "\n",
    "So We are going to dive into our gathered data and invetigate our findings. "
   ]
  },
  {
   "cell_type": "code",
   "execution_count": 1,
   "metadata": {},
   "outputs": [],
   "source": [
    "# Basic Importations \n",
    "import pandas as pd \n",
    "import numpy as np"
   ]
  },
  {
   "cell_type": "markdown",
   "metadata": {},
   "source": [
    "<a id=\"#wrangling\"></a>\n",
    "## Data Wrangling \n",
    "Let\\`s dive into our gathered data and find it\\`s secerets. "
   ]
  },
  {
   "cell_type": "code",
   "execution_count": 14,
   "metadata": {},
   "outputs": [
    {
     "data": {
      "text/html": [
       "<div>\n",
       "<style scoped>\n",
       "    .dataframe tbody tr th:only-of-type {\n",
       "        vertical-align: middle;\n",
       "    }\n",
       "\n",
       "    .dataframe tbody tr th {\n",
       "        vertical-align: top;\n",
       "    }\n",
       "\n",
       "    .dataframe thead th {\n",
       "        text-align: right;\n",
       "    }\n",
       "</style>\n",
       "<table border=\"1\" class=\"dataframe\">\n",
       "  <thead>\n",
       "    <tr style=\"text-align: right;\">\n",
       "      <th></th>\n",
       "      <th>StudBME1</th>\n",
       "      <th>STUDBME2</th>\n",
       "      <th>SBME_STAFF3</th>\n",
       "      <th>SBME_STAFF</th>\n",
       "      <th>CUFE</th>\n",
       "      <th>RehabLab</th>\n",
       "      <th>lab001</th>\n",
       "      <th>BMEStudentLab3</th>\n",
       "      <th>CMP_LAB</th>\n",
       "      <th>CMP_LAB1</th>\n",
       "      <th>CMP_LAB2</th>\n",
       "    </tr>\n",
       "  </thead>\n",
       "  <tbody>\n",
       "    <tr>\n",
       "      <th>count</th>\n",
       "      <td>149.000000</td>\n",
       "      <td>149.000000</td>\n",
       "      <td>149.000000</td>\n",
       "      <td>149.000000</td>\n",
       "      <td>149.000000</td>\n",
       "      <td>149.000000</td>\n",
       "      <td>149.000000</td>\n",
       "      <td>149.0</td>\n",
       "      <td>149.0</td>\n",
       "      <td>149.000000</td>\n",
       "      <td>149.000000</td>\n",
       "    </tr>\n",
       "    <tr>\n",
       "      <th>mean</th>\n",
       "      <td>-81.624161</td>\n",
       "      <td>-57.053691</td>\n",
       "      <td>-87.214765</td>\n",
       "      <td>-77.194631</td>\n",
       "      <td>-68.946309</td>\n",
       "      <td>-87.946309</td>\n",
       "      <td>-84.315436</td>\n",
       "      <td>0.0</td>\n",
       "      <td>0.0</td>\n",
       "      <td>-58.570470</td>\n",
       "      <td>-60.677852</td>\n",
       "    </tr>\n",
       "    <tr>\n",
       "      <th>std</th>\n",
       "      <td>12.310442</td>\n",
       "      <td>4.658304</td>\n",
       "      <td>2.255815</td>\n",
       "      <td>27.815919</td>\n",
       "      <td>35.480826</td>\n",
       "      <td>2.189611</td>\n",
       "      <td>4.304440</td>\n",
       "      <td>0.0</td>\n",
       "      <td>0.0</td>\n",
       "      <td>30.234948</td>\n",
       "      <td>31.482356</td>\n",
       "    </tr>\n",
       "    <tr>\n",
       "      <th>min</th>\n",
       "      <td>-89.000000</td>\n",
       "      <td>-73.000000</td>\n",
       "      <td>-93.000000</td>\n",
       "      <td>-89.000000</td>\n",
       "      <td>-90.000000</td>\n",
       "      <td>-94.000000</td>\n",
       "      <td>-92.000000</td>\n",
       "      <td>0.0</td>\n",
       "      <td>0.0</td>\n",
       "      <td>-85.000000</td>\n",
       "      <td>-87.000000</td>\n",
       "    </tr>\n",
       "    <tr>\n",
       "      <th>25%</th>\n",
       "      <td>-85.000000</td>\n",
       "      <td>-60.000000</td>\n",
       "      <td>-89.000000</td>\n",
       "      <td>-88.000000</td>\n",
       "      <td>-88.000000</td>\n",
       "      <td>-89.000000</td>\n",
       "      <td>-87.000000</td>\n",
       "      <td>0.0</td>\n",
       "      <td>0.0</td>\n",
       "      <td>-74.000000</td>\n",
       "      <td>-77.000000</td>\n",
       "    </tr>\n",
       "    <tr>\n",
       "      <th>50%</th>\n",
       "      <td>-84.000000</td>\n",
       "      <td>-58.000000</td>\n",
       "      <td>-87.000000</td>\n",
       "      <td>-87.000000</td>\n",
       "      <td>-87.000000</td>\n",
       "      <td>-88.000000</td>\n",
       "      <td>-85.000000</td>\n",
       "      <td>0.0</td>\n",
       "      <td>0.0</td>\n",
       "      <td>-73.000000</td>\n",
       "      <td>-74.000000</td>\n",
       "    </tr>\n",
       "    <tr>\n",
       "      <th>75%</th>\n",
       "      <td>-82.000000</td>\n",
       "      <td>-54.000000</td>\n",
       "      <td>-86.000000</td>\n",
       "      <td>-86.000000</td>\n",
       "      <td>-85.000000</td>\n",
       "      <td>-87.000000</td>\n",
       "      <td>-82.000000</td>\n",
       "      <td>0.0</td>\n",
       "      <td>0.0</td>\n",
       "      <td>-71.000000</td>\n",
       "      <td>-71.000000</td>\n",
       "    </tr>\n",
       "    <tr>\n",
       "      <th>max</th>\n",
       "      <td>0.000000</td>\n",
       "      <td>-47.000000</td>\n",
       "      <td>-80.000000</td>\n",
       "      <td>0.000000</td>\n",
       "      <td>0.000000</td>\n",
       "      <td>-78.000000</td>\n",
       "      <td>-71.000000</td>\n",
       "      <td>0.0</td>\n",
       "      <td>0.0</td>\n",
       "      <td>0.000000</td>\n",
       "      <td>0.000000</td>\n",
       "    </tr>\n",
       "  </tbody>\n",
       "</table>\n",
       "</div>"
      ],
      "text/plain": [
       "         StudBME1    STUDBME2  SBME_STAFF3  SBME_STAFF        CUFE  \\\n",
       "count  149.000000  149.000000   149.000000  149.000000  149.000000   \n",
       "mean   -81.624161  -57.053691   -87.214765  -77.194631  -68.946309   \n",
       "std     12.310442    4.658304     2.255815   27.815919   35.480826   \n",
       "min    -89.000000  -73.000000   -93.000000  -89.000000  -90.000000   \n",
       "25%    -85.000000  -60.000000   -89.000000  -88.000000  -88.000000   \n",
       "50%    -84.000000  -58.000000   -87.000000  -87.000000  -87.000000   \n",
       "75%    -82.000000  -54.000000   -86.000000  -86.000000  -85.000000   \n",
       "max      0.000000  -47.000000   -80.000000    0.000000    0.000000   \n",
       "\n",
       "         RehabLab      lab001  BMEStudentLab3  CMP_LAB    CMP_LAB1    CMP_LAB2  \n",
       "count  149.000000  149.000000           149.0    149.0  149.000000  149.000000  \n",
       "mean   -87.946309  -84.315436             0.0      0.0  -58.570470  -60.677852  \n",
       "std      2.189611    4.304440             0.0      0.0   30.234948   31.482356  \n",
       "min    -94.000000  -92.000000             0.0      0.0  -85.000000  -87.000000  \n",
       "25%    -89.000000  -87.000000             0.0      0.0  -74.000000  -77.000000  \n",
       "50%    -88.000000  -85.000000             0.0      0.0  -73.000000  -74.000000  \n",
       "75%    -87.000000  -82.000000             0.0      0.0  -71.000000  -71.000000  \n",
       "max    -78.000000  -71.000000             0.0      0.0    0.000000    0.000000  "
      ]
     },
     "execution_count": 14,
     "metadata": {},
     "output_type": "execute_result"
    }
   ],
   "source": [
    "# Read our datasets \n",
    "df_ta = pd.read_csv('esp_csv_only/csv/Ta.csv')\n",
    "df_lab = pd.read_csv('esp_csv_only/csv/Lab.csv')\n",
    "df_ts = pd.read_csv('esp_csv_only/csv/ts.csv')\n",
    "df_hall_4 = pd.read_csv('esp_csv_only/csv/hall_4.csv')\n",
    "df_hall_5 = pd.read_csv('esp_csv_only/csv/hall_5.csv')\n",
    "df_hall_6 = pd.read_csv('esp_csv_only/csv/hall_6.csv')\n",
    "df_main_hall = pd.read_csv('esp_csv_only/csv/main_hall.csv')\n",
    "# Show Heads \n",
    "df_lab.describe()"
   ]
  },
  {
   "cell_type": "code",
   "execution_count": 15,
   "metadata": {},
   "outputs": [
    {
     "data": {
      "text/html": [
       "<div>\n",
       "<style scoped>\n",
       "    .dataframe tbody tr th:only-of-type {\n",
       "        vertical-align: middle;\n",
       "    }\n",
       "\n",
       "    .dataframe tbody tr th {\n",
       "        vertical-align: top;\n",
       "    }\n",
       "\n",
       "    .dataframe thead th {\n",
       "        text-align: right;\n",
       "    }\n",
       "</style>\n",
       "<table border=\"1\" class=\"dataframe\">\n",
       "  <thead>\n",
       "    <tr style=\"text-align: right;\">\n",
       "      <th></th>\n",
       "      <th>StudBME1</th>\n",
       "      <th>STUDBME2</th>\n",
       "      <th>SBME_STAFF3</th>\n",
       "      <th>SBME_STAFF</th>\n",
       "      <th>CUFE</th>\n",
       "      <th>RehabLab</th>\n",
       "      <th>lab001</th>\n",
       "      <th>BMEStudentLab3</th>\n",
       "      <th>CMP_LAB</th>\n",
       "      <th>CMP_LAB1</th>\n",
       "      <th>CMP_LAB2</th>\n",
       "    </tr>\n",
       "  </thead>\n",
       "  <tbody>\n",
       "    <tr>\n",
       "      <th>count</th>\n",
       "      <td>151.000000</td>\n",
       "      <td>151.000000</td>\n",
       "      <td>151.000000</td>\n",
       "      <td>151.000000</td>\n",
       "      <td>151.000000</td>\n",
       "      <td>151.000000</td>\n",
       "      <td>151.000000</td>\n",
       "      <td>151.0</td>\n",
       "      <td>151.0</td>\n",
       "      <td>151.000000</td>\n",
       "      <td>151.000000</td>\n",
       "    </tr>\n",
       "    <tr>\n",
       "      <th>mean</th>\n",
       "      <td>-78.980132</td>\n",
       "      <td>-69.589404</td>\n",
       "      <td>-71.913907</td>\n",
       "      <td>-84.940397</td>\n",
       "      <td>-83.238411</td>\n",
       "      <td>-68.847682</td>\n",
       "      <td>-86.317881</td>\n",
       "      <td>0.0</td>\n",
       "      <td>0.0</td>\n",
       "      <td>-77.874172</td>\n",
       "      <td>-75.317881</td>\n",
       "    </tr>\n",
       "    <tr>\n",
       "      <th>std</th>\n",
       "      <td>10.841568</td>\n",
       "      <td>9.522795</td>\n",
       "      <td>35.969420</td>\n",
       "      <td>10.426397</td>\n",
       "      <td>19.977557</td>\n",
       "      <td>37.952909</td>\n",
       "      <td>10.471785</td>\n",
       "      <td>0.0</td>\n",
       "      <td>0.0</td>\n",
       "      <td>20.161781</td>\n",
       "      <td>25.352021</td>\n",
       "    </tr>\n",
       "    <tr>\n",
       "      <th>min</th>\n",
       "      <td>-92.000000</td>\n",
       "      <td>-85.000000</td>\n",
       "      <td>-95.000000</td>\n",
       "      <td>-95.000000</td>\n",
       "      <td>-91.000000</td>\n",
       "      <td>-93.000000</td>\n",
       "      <td>-95.000000</td>\n",
       "      <td>0.0</td>\n",
       "      <td>0.0</td>\n",
       "      <td>-90.000000</td>\n",
       "      <td>-89.000000</td>\n",
       "    </tr>\n",
       "    <tr>\n",
       "      <th>25%</th>\n",
       "      <td>-84.000000</td>\n",
       "      <td>-73.000000</td>\n",
       "      <td>-91.000000</td>\n",
       "      <td>-88.000000</td>\n",
       "      <td>-91.000000</td>\n",
       "      <td>-90.000000</td>\n",
       "      <td>-89.000000</td>\n",
       "      <td>0.0</td>\n",
       "      <td>0.0</td>\n",
       "      <td>-86.500000</td>\n",
       "      <td>-86.000000</td>\n",
       "    </tr>\n",
       "    <tr>\n",
       "      <th>50%</th>\n",
       "      <td>-80.000000</td>\n",
       "      <td>-70.000000</td>\n",
       "      <td>-91.000000</td>\n",
       "      <td>-86.000000</td>\n",
       "      <td>-87.000000</td>\n",
       "      <td>-90.000000</td>\n",
       "      <td>-88.000000</td>\n",
       "      <td>0.0</td>\n",
       "      <td>0.0</td>\n",
       "      <td>-82.000000</td>\n",
       "      <td>-83.000000</td>\n",
       "    </tr>\n",
       "    <tr>\n",
       "      <th>75%</th>\n",
       "      <td>-76.000000</td>\n",
       "      <td>-67.000000</td>\n",
       "      <td>-86.000000</td>\n",
       "      <td>-85.000000</td>\n",
       "      <td>-85.000000</td>\n",
       "      <td>-86.500000</td>\n",
       "      <td>-86.000000</td>\n",
       "      <td>0.0</td>\n",
       "      <td>0.0</td>\n",
       "      <td>-80.000000</td>\n",
       "      <td>-81.000000</td>\n",
       "    </tr>\n",
       "    <tr>\n",
       "      <th>max</th>\n",
       "      <td>0.000000</td>\n",
       "      <td>0.000000</td>\n",
       "      <td>0.000000</td>\n",
       "      <td>0.000000</td>\n",
       "      <td>0.000000</td>\n",
       "      <td>0.000000</td>\n",
       "      <td>0.000000</td>\n",
       "      <td>0.0</td>\n",
       "      <td>0.0</td>\n",
       "      <td>0.000000</td>\n",
       "      <td>0.000000</td>\n",
       "    </tr>\n",
       "  </tbody>\n",
       "</table>\n",
       "</div>"
      ],
      "text/plain": [
       "         StudBME1    STUDBME2  SBME_STAFF3  SBME_STAFF        CUFE  \\\n",
       "count  151.000000  151.000000   151.000000  151.000000  151.000000   \n",
       "mean   -78.980132  -69.589404   -71.913907  -84.940397  -83.238411   \n",
       "std     10.841568    9.522795    35.969420   10.426397   19.977557   \n",
       "min    -92.000000  -85.000000   -95.000000  -95.000000  -91.000000   \n",
       "25%    -84.000000  -73.000000   -91.000000  -88.000000  -91.000000   \n",
       "50%    -80.000000  -70.000000   -91.000000  -86.000000  -87.000000   \n",
       "75%    -76.000000  -67.000000   -86.000000  -85.000000  -85.000000   \n",
       "max      0.000000    0.000000     0.000000    0.000000    0.000000   \n",
       "\n",
       "         RehabLab      lab001  BMEStudentLab3  CMP_LAB    CMP_LAB1    CMP_LAB2  \n",
       "count  151.000000  151.000000           151.0    151.0  151.000000  151.000000  \n",
       "mean   -68.847682  -86.317881             0.0      0.0  -77.874172  -75.317881  \n",
       "std     37.952909   10.471785             0.0      0.0   20.161781   25.352021  \n",
       "min    -93.000000  -95.000000             0.0      0.0  -90.000000  -89.000000  \n",
       "25%    -90.000000  -89.000000             0.0      0.0  -86.500000  -86.000000  \n",
       "50%    -90.000000  -88.000000             0.0      0.0  -82.000000  -83.000000  \n",
       "75%    -86.500000  -86.000000             0.0      0.0  -80.000000  -81.000000  \n",
       "max      0.000000    0.000000             0.0      0.0    0.000000    0.000000  "
      ]
     },
     "execution_count": 15,
     "metadata": {},
     "output_type": "execute_result"
    }
   ],
   "source": [
    "df_ta.describe()"
   ]
  },
  {
   "cell_type": "markdown",
   "metadata": {},
   "source": [
    "The first look into the data insights the following:\n",
    "\n",
    "- BMEStudentLab3 & CMP_LAB are out of range and their values wont benefit our model. \n",
    "- There are a lot of zeros in the recorded data.\n",
    "\n",
    "### The Zeros problem :\n",
    "The data is recorded in a way that, if one of the specified wifi networks is not found or out of range it records the value for that moment as zero, according to the documentation of the ESP Module the RSSI\\`s of a wifi network is a value that ranges from -100 to -50 dB, -100 for bad network connectivity (Signal Strength) and -50 good network connnectivity.\n",
    "<img src=\"sources/wifi.jpeg\">\n",
    "So we can treat a zero value as miss recorded value (seems to be an error in the chip) and replace it with any method we want, we will stick with replacing with the mean for now. "
   ]
  },
  {
   "cell_type": "markdown",
   "metadata": {},
   "source": [
    "## Imputing miss calculated records "
   ]
  },
  {
   "cell_type": "code",
   "execution_count": 16,
   "metadata": {},
   "outputs": [
    {
     "name": "stdout",
     "output_type": "stream",
     "text": [
      "Index(['StudBME1', 'STUDBME2', 'SBME_STAFF3', 'SBME_STAFF', 'RehabLab',\n",
      "       'lab001', 'CMP_LAB1', 'CMP_LAB2'],\n",
      "      dtype='object')\n",
      "Index(['StudBME1', 'STUDBME2', 'SBME_STAFF3', 'SBME_STAFF', 'RehabLab',\n",
      "       'lab001', 'CMP_LAB1', 'CMP_LAB2'],\n",
      "      dtype='object')\n",
      "Index(['StudBME1', 'STUDBME2', 'SBME_STAFF3', 'SBME_STAFF', 'RehabLab',\n",
      "       'lab001', 'CMP_LAB1', 'CMP_LAB2'],\n",
      "      dtype='object')\n",
      "Index(['StudBME1', 'STUDBME2', 'SBME_STAFF3', 'SBME_STAFF', 'RehabLab',\n",
      "       'lab001', 'CMP_LAB1', 'CMP_LAB2'],\n",
      "      dtype='object')\n",
      "Index(['StudBME1', 'STUDBME2', 'SBME_STAFF3', 'SBME_STAFF', 'RehabLab',\n",
      "       'lab001', 'CMP_LAB1', 'CMP_LAB2'],\n",
      "      dtype='object')\n",
      "Index(['StudBME1', 'STUDBME2', 'SBME_STAFF3', 'SBME_STAFF', 'RehabLab',\n",
      "       'lab001', 'CMP_LAB1', 'CMP_LAB2'],\n",
      "      dtype='object')\n",
      "Index(['StudBME1', 'STUDBME2', 'SBME_STAFF3', 'SBME_STAFF', 'RehabLab',\n",
      "       'lab001', 'CMP_LAB1', 'CMP_LAB2'],\n",
      "      dtype='object')\n",
      "[True, True, True, True, True, True, True]\n"
     ]
    }
   ],
   "source": [
    "# Drop the two bad coloumns \n",
    "bad_cols = [df_lab.BMEStudentLab3.name, df_lab.CMP_LAB.name, df_lab.CUFE.name]\n",
    "\n",
    "# dfs classes 1, 2, 3, 4, 5, 6\n",
    "dfs = [df_ta, df_lab, df_ts, df_hall_4, df_hall_5, df_hall_6, df_main_hall]\n",
    "\n",
    "for df in dfs:\n",
    "    df.drop(bad_cols, axis=1, inplace=True)\n",
    "    print(df.columns)\n",
    "\n",
    "imp_cols = ['StudBME1', 'STUDBME2', 'SBME_STAFF3', 'SBME_STAFF',\n",
    "       'RehabLab', 'lab001', 'CMP_LAB1', 'CMP_LAB2']\n",
    "# Check \n",
    "print([(df.columns.values == imp_cols).all() for df in dfs])\n"
   ]
  },
  {
   "cell_type": "code",
   "execution_count": 17,
   "metadata": {},
   "outputs": [
    {
     "data": {
      "text/plain": [
       "Index(['StudBME1', 'STUDBME2', 'SBME_STAFF3', 'SBME_STAFF', 'RehabLab',\n",
       "       'lab001', 'CMP_LAB1', 'CMP_LAB2'],\n",
       "      dtype='object')"
      ]
     },
     "execution_count": 17,
     "metadata": {},
     "output_type": "execute_result"
    }
   ],
   "source": [
    "df_lab.columns"
   ]
  },
  {
   "cell_type": "code",
   "execution_count": 18,
   "metadata": {},
   "outputs": [
    {
     "name": "stdout",
     "output_type": "stream",
     "text": [
      "[True, True, False, False, False, False, True]\n"
     ]
    }
   ],
   "source": [
    "# Replace Zeros with the mean\n",
    "cols = df_lab.columns\n",
    "\n",
    "for df in dfs:\n",
    "    df[cols] = df[cols].replace({0: np.nan})\n",
    "\n",
    "# Check \n",
    "print([(df[imp_cols].isnull().sum().values > 0).any() for df in dfs])"
   ]
  },
  {
   "cell_type": "code",
   "execution_count": 19,
   "metadata": {},
   "outputs": [
    {
     "data": {
      "text/plain": [
       "[['StudBME1',\n",
       "  'STUDBME2',\n",
       "  'SBME_STAFF3',\n",
       "  'SBME_STAFF',\n",
       "  'RehabLab',\n",
       "  'lab001',\n",
       "  'CMP_LAB1',\n",
       "  'CMP_LAB2'],\n",
       " ['StudBME1', 'SBME_STAFF', 'CMP_LAB1', 'CMP_LAB2'],\n",
       " [],\n",
       " [],\n",
       " [],\n",
       " [],\n",
       " ['RehabLab', 'lab001']]"
      ]
     },
     "execution_count": 19,
     "metadata": {},
     "output_type": "execute_result"
    }
   ],
   "source": [
    "miss = []\n",
    "\n",
    "for df in dfs:\n",
    "        missing = [col for col in df if df[col].isnull().sum()>0]\n",
    "        miss.append(missing)\n",
    "\n",
    "        \n",
    "# for i in df_lab.columns:\n",
    "#     missing_lab = df_lab[i].isnull().sum()\n",
    "#     missing_ta = df_ta[i].isnull().sum()\n",
    "    \n",
    "#     if missing_lab >0 :\n",
    "#         miss_lab.append(i)\n",
    "        \n",
    "#     if missing_ta >0:\n",
    "#         miss_ta.append(i)\n",
    "# print(miss_lab)\n",
    "# print(miss_ta)\n",
    "miss"
   ]
  },
  {
   "cell_type": "code",
   "execution_count": 20,
   "metadata": {},
   "outputs": [],
   "source": [
    "# Replace missing with mean \n",
    "for idx, df_cols in enumerate(miss):\n",
    "    for df_col in df_cols:\n",
    "        dfs[idx][df_col].fillna(round(dfs[idx][df_col].mean(),1), inplace=True)\n",
    "# for col_lab in miss_lab:\n",
    "#     df_lab[col_lab].fillna(round(df_lab[col_lab].mean(),1), inplace=True)\n",
    "\n",
    "# for col_ta in miss_ta:\n",
    "#     df_ta[col_ta].fillna(round(df_ta[col_ta].mean(), 1), inplace=True)\n"
   ]
  },
  {
   "cell_type": "code",
   "execution_count": 21,
   "metadata": {},
   "outputs": [],
   "source": [
    "# Set Classes for each location\n",
    "for idx, df in enumerate(dfs):\n",
    "    df['location'] = idx+1\n"
   ]
  },
  {
   "cell_type": "code",
   "execution_count": 47,
   "metadata": {},
   "outputs": [
    {
     "data": {
      "text/html": [
       "<div>\n",
       "<style scoped>\n",
       "    .dataframe tbody tr th:only-of-type {\n",
       "        vertical-align: middle;\n",
       "    }\n",
       "\n",
       "    .dataframe tbody tr th {\n",
       "        vertical-align: top;\n",
       "    }\n",
       "\n",
       "    .dataframe thead th {\n",
       "        text-align: right;\n",
       "    }\n",
       "</style>\n",
       "<table border=\"1\" class=\"dataframe\">\n",
       "  <thead>\n",
       "    <tr style=\"text-align: right;\">\n",
       "      <th></th>\n",
       "      <th>StudBME1</th>\n",
       "      <th>STUDBME2</th>\n",
       "      <th>SBME_STAFF3</th>\n",
       "      <th>SBME_STAFF</th>\n",
       "      <th>RehabLab</th>\n",
       "      <th>lab001</th>\n",
       "      <th>CMP_LAB1</th>\n",
       "      <th>CMP_LAB2</th>\n",
       "      <th>location</th>\n",
       "    </tr>\n",
       "  </thead>\n",
       "  <tbody>\n",
       "    <tr>\n",
       "      <th>count</th>\n",
       "      <td>149.000000</td>\n",
       "      <td>149.000000</td>\n",
       "      <td>149.000000</td>\n",
       "      <td>149.000000</td>\n",
       "      <td>149.000000</td>\n",
       "      <td>149.000000</td>\n",
       "      <td>149.000000</td>\n",
       "      <td>149.000000</td>\n",
       "      <td>149.0</td>\n",
       "    </tr>\n",
       "    <tr>\n",
       "      <th>mean</th>\n",
       "      <td>-83.301342</td>\n",
       "      <td>-57.053691</td>\n",
       "      <td>-87.214765</td>\n",
       "      <td>-87.132215</td>\n",
       "      <td>-87.946309</td>\n",
       "      <td>-84.315436</td>\n",
       "      <td>-73.966443</td>\n",
       "      <td>-76.614765</td>\n",
       "      <td>2.0</td>\n",
       "    </tr>\n",
       "    <tr>\n",
       "      <th>std</th>\n",
       "      <td>3.704216</td>\n",
       "      <td>4.658304</td>\n",
       "      <td>2.255815</td>\n",
       "      <td>1.044824</td>\n",
       "      <td>2.189611</td>\n",
       "      <td>4.304440</td>\n",
       "      <td>2.613417</td>\n",
       "      <td>4.165372</td>\n",
       "      <td>0.0</td>\n",
       "    </tr>\n",
       "    <tr>\n",
       "      <th>min</th>\n",
       "      <td>-89.000000</td>\n",
       "      <td>-73.000000</td>\n",
       "      <td>-93.000000</td>\n",
       "      <td>-89.000000</td>\n",
       "      <td>-94.000000</td>\n",
       "      <td>-92.000000</td>\n",
       "      <td>-85.000000</td>\n",
       "      <td>-87.000000</td>\n",
       "      <td>2.0</td>\n",
       "    </tr>\n",
       "    <tr>\n",
       "      <th>25%</th>\n",
       "      <td>-85.000000</td>\n",
       "      <td>-60.000000</td>\n",
       "      <td>-89.000000</td>\n",
       "      <td>-88.000000</td>\n",
       "      <td>-89.000000</td>\n",
       "      <td>-87.000000</td>\n",
       "      <td>-74.000000</td>\n",
       "      <td>-77.000000</td>\n",
       "      <td>2.0</td>\n",
       "    </tr>\n",
       "    <tr>\n",
       "      <th>50%</th>\n",
       "      <td>-84.000000</td>\n",
       "      <td>-58.000000</td>\n",
       "      <td>-87.000000</td>\n",
       "      <td>-87.100000</td>\n",
       "      <td>-88.000000</td>\n",
       "      <td>-85.000000</td>\n",
       "      <td>-73.000000</td>\n",
       "      <td>-76.000000</td>\n",
       "      <td>2.0</td>\n",
       "    </tr>\n",
       "    <tr>\n",
       "      <th>75%</th>\n",
       "      <td>-82.000000</td>\n",
       "      <td>-54.000000</td>\n",
       "      <td>-86.000000</td>\n",
       "      <td>-86.000000</td>\n",
       "      <td>-87.000000</td>\n",
       "      <td>-82.000000</td>\n",
       "      <td>-73.000000</td>\n",
       "      <td>-74.000000</td>\n",
       "      <td>2.0</td>\n",
       "    </tr>\n",
       "    <tr>\n",
       "      <th>max</th>\n",
       "      <td>-73.000000</td>\n",
       "      <td>-47.000000</td>\n",
       "      <td>-80.000000</td>\n",
       "      <td>-85.000000</td>\n",
       "      <td>-78.000000</td>\n",
       "      <td>-71.000000</td>\n",
       "      <td>-69.000000</td>\n",
       "      <td>-69.000000</td>\n",
       "      <td>2.0</td>\n",
       "    </tr>\n",
       "  </tbody>\n",
       "</table>\n",
       "</div>"
      ],
      "text/plain": [
       "         StudBME1    STUDBME2  SBME_STAFF3  SBME_STAFF    RehabLab  \\\n",
       "count  149.000000  149.000000   149.000000  149.000000  149.000000   \n",
       "mean   -83.301342  -57.053691   -87.214765  -87.132215  -87.946309   \n",
       "std      3.704216    4.658304     2.255815    1.044824    2.189611   \n",
       "min    -89.000000  -73.000000   -93.000000  -89.000000  -94.000000   \n",
       "25%    -85.000000  -60.000000   -89.000000  -88.000000  -89.000000   \n",
       "50%    -84.000000  -58.000000   -87.000000  -87.100000  -88.000000   \n",
       "75%    -82.000000  -54.000000   -86.000000  -86.000000  -87.000000   \n",
       "max    -73.000000  -47.000000   -80.000000  -85.000000  -78.000000   \n",
       "\n",
       "           lab001    CMP_LAB1    CMP_LAB2  location  \n",
       "count  149.000000  149.000000  149.000000     149.0  \n",
       "mean   -84.315436  -73.966443  -76.614765       2.0  \n",
       "std      4.304440    2.613417    4.165372       0.0  \n",
       "min    -92.000000  -85.000000  -87.000000       2.0  \n",
       "25%    -87.000000  -74.000000  -77.000000       2.0  \n",
       "50%    -85.000000  -73.000000  -76.000000       2.0  \n",
       "75%    -82.000000  -73.000000  -74.000000       2.0  \n",
       "max    -71.000000  -69.000000  -69.000000       2.0  "
      ]
     },
     "execution_count": 47,
     "metadata": {},
     "output_type": "execute_result"
    }
   ],
   "source": [
    "df_lab.describe()"
   ]
  },
  {
   "cell_type": "code",
   "execution_count": 48,
   "metadata": {},
   "outputs": [
    {
     "data": {
      "text/html": [
       "<div>\n",
       "<style scoped>\n",
       "    .dataframe tbody tr th:only-of-type {\n",
       "        vertical-align: middle;\n",
       "    }\n",
       "\n",
       "    .dataframe tbody tr th {\n",
       "        vertical-align: top;\n",
       "    }\n",
       "\n",
       "    .dataframe thead th {\n",
       "        text-align: right;\n",
       "    }\n",
       "</style>\n",
       "<table border=\"1\" class=\"dataframe\">\n",
       "  <thead>\n",
       "    <tr style=\"text-align: right;\">\n",
       "      <th></th>\n",
       "      <th>StudBME1</th>\n",
       "      <th>STUDBME2</th>\n",
       "      <th>SBME_STAFF3</th>\n",
       "      <th>SBME_STAFF</th>\n",
       "      <th>RehabLab</th>\n",
       "      <th>lab001</th>\n",
       "      <th>CMP_LAB1</th>\n",
       "      <th>CMP_LAB2</th>\n",
       "      <th>location</th>\n",
       "    </tr>\n",
       "  </thead>\n",
       "  <tbody>\n",
       "    <tr>\n",
       "      <th>count</th>\n",
       "      <td>151.000000</td>\n",
       "      <td>151.000000</td>\n",
       "      <td>151.000000</td>\n",
       "      <td>151.000000</td>\n",
       "      <td>151.000000</td>\n",
       "      <td>151.000000</td>\n",
       "      <td>151.000000</td>\n",
       "      <td>151.000000</td>\n",
       "      <td>151.0</td>\n",
       "    </tr>\n",
       "    <tr>\n",
       "      <th>mean</th>\n",
       "      <td>-80.039735</td>\n",
       "      <td>-70.523179</td>\n",
       "      <td>-89.735099</td>\n",
       "      <td>-86.080795</td>\n",
       "      <td>-89.615894</td>\n",
       "      <td>-87.476821</td>\n",
       "      <td>-82.809272</td>\n",
       "      <td>-83.622517</td>\n",
       "      <td>1.0</td>\n",
       "    </tr>\n",
       "    <tr>\n",
       "      <th>std</th>\n",
       "      <td>5.766433</td>\n",
       "      <td>5.024718</td>\n",
       "      <td>1.741846</td>\n",
       "      <td>3.349661</td>\n",
       "      <td>0.845860</td>\n",
       "      <td>2.996853</td>\n",
       "      <td>4.424076</td>\n",
       "      <td>3.588763</td>\n",
       "      <td>0.0</td>\n",
       "    </tr>\n",
       "    <tr>\n",
       "      <th>min</th>\n",
       "      <td>-92.000000</td>\n",
       "      <td>-85.000000</td>\n",
       "      <td>-95.000000</td>\n",
       "      <td>-95.000000</td>\n",
       "      <td>-93.000000</td>\n",
       "      <td>-95.000000</td>\n",
       "      <td>-90.000000</td>\n",
       "      <td>-89.000000</td>\n",
       "      <td>1.0</td>\n",
       "    </tr>\n",
       "    <tr>\n",
       "      <th>25%</th>\n",
       "      <td>-84.000000</td>\n",
       "      <td>-73.000000</td>\n",
       "      <td>-91.000000</td>\n",
       "      <td>-88.000000</td>\n",
       "      <td>-90.000000</td>\n",
       "      <td>-89.000000</td>\n",
       "      <td>-86.500000</td>\n",
       "      <td>-86.000000</td>\n",
       "      <td>1.0</td>\n",
       "    </tr>\n",
       "    <tr>\n",
       "      <th>50%</th>\n",
       "      <td>-80.000000</td>\n",
       "      <td>-70.500000</td>\n",
       "      <td>-91.000000</td>\n",
       "      <td>-86.000000</td>\n",
       "      <td>-90.000000</td>\n",
       "      <td>-88.000000</td>\n",
       "      <td>-82.800000</td>\n",
       "      <td>-83.600000</td>\n",
       "      <td>1.0</td>\n",
       "    </tr>\n",
       "    <tr>\n",
       "      <th>75%</th>\n",
       "      <td>-76.500000</td>\n",
       "      <td>-68.000000</td>\n",
       "      <td>-88.000000</td>\n",
       "      <td>-85.000000</td>\n",
       "      <td>-89.600000</td>\n",
       "      <td>-86.500000</td>\n",
       "      <td>-80.000000</td>\n",
       "      <td>-82.000000</td>\n",
       "      <td>1.0</td>\n",
       "    </tr>\n",
       "    <tr>\n",
       "      <th>max</th>\n",
       "      <td>-62.000000</td>\n",
       "      <td>-54.000000</td>\n",
       "      <td>-86.000000</td>\n",
       "      <td>-71.000000</td>\n",
       "      <td>-86.000000</td>\n",
       "      <td>-78.000000</td>\n",
       "      <td>-69.000000</td>\n",
       "      <td>-70.000000</td>\n",
       "      <td>1.0</td>\n",
       "    </tr>\n",
       "  </tbody>\n",
       "</table>\n",
       "</div>"
      ],
      "text/plain": [
       "         StudBME1    STUDBME2  SBME_STAFF3  SBME_STAFF    RehabLab  \\\n",
       "count  151.000000  151.000000   151.000000  151.000000  151.000000   \n",
       "mean   -80.039735  -70.523179   -89.735099  -86.080795  -89.615894   \n",
       "std      5.766433    5.024718     1.741846    3.349661    0.845860   \n",
       "min    -92.000000  -85.000000   -95.000000  -95.000000  -93.000000   \n",
       "25%    -84.000000  -73.000000   -91.000000  -88.000000  -90.000000   \n",
       "50%    -80.000000  -70.500000   -91.000000  -86.000000  -90.000000   \n",
       "75%    -76.500000  -68.000000   -88.000000  -85.000000  -89.600000   \n",
       "max    -62.000000  -54.000000   -86.000000  -71.000000  -86.000000   \n",
       "\n",
       "           lab001    CMP_LAB1    CMP_LAB2  location  \n",
       "count  151.000000  151.000000  151.000000     151.0  \n",
       "mean   -87.476821  -82.809272  -83.622517       1.0  \n",
       "std      2.996853    4.424076    3.588763       0.0  \n",
       "min    -95.000000  -90.000000  -89.000000       1.0  \n",
       "25%    -89.000000  -86.500000  -86.000000       1.0  \n",
       "50%    -88.000000  -82.800000  -83.600000       1.0  \n",
       "75%    -86.500000  -80.000000  -82.000000       1.0  \n",
       "max    -78.000000  -69.000000  -70.000000       1.0  "
      ]
     },
     "execution_count": 48,
     "metadata": {},
     "output_type": "execute_result"
    }
   ],
   "source": [
    "df_ta.describe()"
   ]
  },
  {
   "cell_type": "code",
   "execution_count": 24,
   "metadata": {},
   "outputs": [
    {
     "data": {
      "text/html": [
       "<div>\n",
       "<style scoped>\n",
       "    .dataframe tbody tr th:only-of-type {\n",
       "        vertical-align: middle;\n",
       "    }\n",
       "\n",
       "    .dataframe tbody tr th {\n",
       "        vertical-align: top;\n",
       "    }\n",
       "\n",
       "    .dataframe thead th {\n",
       "        text-align: right;\n",
       "    }\n",
       "</style>\n",
       "<table border=\"1\" class=\"dataframe\">\n",
       "  <thead>\n",
       "    <tr style=\"text-align: right;\">\n",
       "      <th></th>\n",
       "      <th>StudBME1</th>\n",
       "      <th>STUDBME2</th>\n",
       "      <th>SBME_STAFF3</th>\n",
       "      <th>SBME_STAFF</th>\n",
       "      <th>RehabLab</th>\n",
       "      <th>lab001</th>\n",
       "      <th>CMP_LAB1</th>\n",
       "      <th>CMP_LAB2</th>\n",
       "      <th>location</th>\n",
       "    </tr>\n",
       "  </thead>\n",
       "  <tbody>\n",
       "    <tr>\n",
       "      <th>0</th>\n",
       "      <td>-81</td>\n",
       "      <td>-55</td>\n",
       "      <td>-55</td>\n",
       "      <td>-88</td>\n",
       "      <td>-50</td>\n",
       "      <td>-86</td>\n",
       "      <td>-62</td>\n",
       "      <td>-63</td>\n",
       "      <td>3</td>\n",
       "    </tr>\n",
       "    <tr>\n",
       "      <th>1</th>\n",
       "      <td>-83</td>\n",
       "      <td>-55</td>\n",
       "      <td>-58</td>\n",
       "      <td>-88</td>\n",
       "      <td>-61</td>\n",
       "      <td>-86</td>\n",
       "      <td>-62</td>\n",
       "      <td>-63</td>\n",
       "      <td>3</td>\n",
       "    </tr>\n",
       "    <tr>\n",
       "      <th>2</th>\n",
       "      <td>-84</td>\n",
       "      <td>-70</td>\n",
       "      <td>-60</td>\n",
       "      <td>-88</td>\n",
       "      <td>-55</td>\n",
       "      <td>-86</td>\n",
       "      <td>-58</td>\n",
       "      <td>-63</td>\n",
       "      <td>3</td>\n",
       "    </tr>\n",
       "    <tr>\n",
       "      <th>3</th>\n",
       "      <td>-84</td>\n",
       "      <td>-72</td>\n",
       "      <td>-58</td>\n",
       "      <td>-88</td>\n",
       "      <td>-47</td>\n",
       "      <td>-86</td>\n",
       "      <td>-58</td>\n",
       "      <td>-63</td>\n",
       "      <td>3</td>\n",
       "    </tr>\n",
       "    <tr>\n",
       "      <th>4</th>\n",
       "      <td>-84</td>\n",
       "      <td>-71</td>\n",
       "      <td>-59</td>\n",
       "      <td>-88</td>\n",
       "      <td>-57</td>\n",
       "      <td>-86</td>\n",
       "      <td>-67</td>\n",
       "      <td>-63</td>\n",
       "      <td>3</td>\n",
       "    </tr>\n",
       "  </tbody>\n",
       "</table>\n",
       "</div>"
      ],
      "text/plain": [
       "   StudBME1  STUDBME2  SBME_STAFF3  SBME_STAFF  RehabLab  lab001  CMP_LAB1  \\\n",
       "0       -81       -55          -55         -88       -50     -86       -62   \n",
       "1       -83       -55          -58         -88       -61     -86       -62   \n",
       "2       -84       -70          -60         -88       -55     -86       -58   \n",
       "3       -84       -72          -58         -88       -47     -86       -58   \n",
       "4       -84       -71          -59         -88       -57     -86       -67   \n",
       "\n",
       "   CMP_LAB2  location  \n",
       "0       -63         3  \n",
       "1       -63         3  \n",
       "2       -63         3  \n",
       "3       -63         3  \n",
       "4       -63         3  "
      ]
     },
     "execution_count": 24,
     "metadata": {},
     "output_type": "execute_result"
    }
   ],
   "source": [
    "df_ts.head()"
   ]
  },
  {
   "cell_type": "code",
   "execution_count": 25,
   "metadata": {},
   "outputs": [
    {
     "data": {
      "text/html": [
       "<div>\n",
       "<style scoped>\n",
       "    .dataframe tbody tr th:only-of-type {\n",
       "        vertical-align: middle;\n",
       "    }\n",
       "\n",
       "    .dataframe tbody tr th {\n",
       "        vertical-align: top;\n",
       "    }\n",
       "\n",
       "    .dataframe thead th {\n",
       "        text-align: right;\n",
       "    }\n",
       "</style>\n",
       "<table border=\"1\" class=\"dataframe\">\n",
       "  <thead>\n",
       "    <tr style=\"text-align: right;\">\n",
       "      <th></th>\n",
       "      <th>StudBME1</th>\n",
       "      <th>STUDBME2</th>\n",
       "      <th>SBME_STAFF3</th>\n",
       "      <th>SBME_STAFF</th>\n",
       "      <th>RehabLab</th>\n",
       "      <th>lab001</th>\n",
       "      <th>CMP_LAB1</th>\n",
       "      <th>CMP_LAB2</th>\n",
       "      <th>location</th>\n",
       "    </tr>\n",
       "  </thead>\n",
       "  <tbody>\n",
       "    <tr>\n",
       "      <th>0</th>\n",
       "      <td>-58</td>\n",
       "      <td>-46</td>\n",
       "      <td>-84</td>\n",
       "      <td>-60</td>\n",
       "      <td>-87</td>\n",
       "      <td>-70</td>\n",
       "      <td>-69</td>\n",
       "      <td>-65</td>\n",
       "      <td>4</td>\n",
       "    </tr>\n",
       "    <tr>\n",
       "      <th>1</th>\n",
       "      <td>-58</td>\n",
       "      <td>-51</td>\n",
       "      <td>-84</td>\n",
       "      <td>-69</td>\n",
       "      <td>-94</td>\n",
       "      <td>-79</td>\n",
       "      <td>-65</td>\n",
       "      <td>-65</td>\n",
       "      <td>4</td>\n",
       "    </tr>\n",
       "    <tr>\n",
       "      <th>2</th>\n",
       "      <td>-65</td>\n",
       "      <td>-47</td>\n",
       "      <td>-84</td>\n",
       "      <td>-69</td>\n",
       "      <td>-89</td>\n",
       "      <td>-74</td>\n",
       "      <td>-65</td>\n",
       "      <td>-65</td>\n",
       "      <td>4</td>\n",
       "    </tr>\n",
       "    <tr>\n",
       "      <th>3</th>\n",
       "      <td>-65</td>\n",
       "      <td>-46</td>\n",
       "      <td>-86</td>\n",
       "      <td>-80</td>\n",
       "      <td>-87</td>\n",
       "      <td>-68</td>\n",
       "      <td>-58</td>\n",
       "      <td>-58</td>\n",
       "      <td>4</td>\n",
       "    </tr>\n",
       "    <tr>\n",
       "      <th>4</th>\n",
       "      <td>-65</td>\n",
       "      <td>-47</td>\n",
       "      <td>-81</td>\n",
       "      <td>-66</td>\n",
       "      <td>-85</td>\n",
       "      <td>-72</td>\n",
       "      <td>-60</td>\n",
       "      <td>-53</td>\n",
       "      <td>4</td>\n",
       "    </tr>\n",
       "  </tbody>\n",
       "</table>\n",
       "</div>"
      ],
      "text/plain": [
       "   StudBME1  STUDBME2  SBME_STAFF3  SBME_STAFF  RehabLab  lab001  CMP_LAB1  \\\n",
       "0       -58       -46          -84         -60       -87     -70       -69   \n",
       "1       -58       -51          -84         -69       -94     -79       -65   \n",
       "2       -65       -47          -84         -69       -89     -74       -65   \n",
       "3       -65       -46          -86         -80       -87     -68       -58   \n",
       "4       -65       -47          -81         -66       -85     -72       -60   \n",
       "\n",
       "   CMP_LAB2  location  \n",
       "0       -65         4  \n",
       "1       -65         4  \n",
       "2       -65         4  \n",
       "3       -58         4  \n",
       "4       -53         4  "
      ]
     },
     "execution_count": 25,
     "metadata": {},
     "output_type": "execute_result"
    }
   ],
   "source": [
    "df_hall_4.head()"
   ]
  },
  {
   "cell_type": "code",
   "execution_count": 26,
   "metadata": {},
   "outputs": [
    {
     "data": {
      "text/html": [
       "<div>\n",
       "<style scoped>\n",
       "    .dataframe tbody tr th:only-of-type {\n",
       "        vertical-align: middle;\n",
       "    }\n",
       "\n",
       "    .dataframe tbody tr th {\n",
       "        vertical-align: top;\n",
       "    }\n",
       "\n",
       "    .dataframe thead th {\n",
       "        text-align: right;\n",
       "    }\n",
       "</style>\n",
       "<table border=\"1\" class=\"dataframe\">\n",
       "  <thead>\n",
       "    <tr style=\"text-align: right;\">\n",
       "      <th></th>\n",
       "      <th>StudBME1</th>\n",
       "      <th>STUDBME2</th>\n",
       "      <th>SBME_STAFF3</th>\n",
       "      <th>SBME_STAFF</th>\n",
       "      <th>RehabLab</th>\n",
       "      <th>lab001</th>\n",
       "      <th>CMP_LAB1</th>\n",
       "      <th>CMP_LAB2</th>\n",
       "      <th>location</th>\n",
       "    </tr>\n",
       "  </thead>\n",
       "  <tbody>\n",
       "    <tr>\n",
       "      <th>0</th>\n",
       "      <td>-60</td>\n",
       "      <td>-55</td>\n",
       "      <td>-63</td>\n",
       "      <td>-86</td>\n",
       "      <td>-72</td>\n",
       "      <td>-86</td>\n",
       "      <td>-55</td>\n",
       "      <td>-58</td>\n",
       "      <td>5</td>\n",
       "    </tr>\n",
       "    <tr>\n",
       "      <th>1</th>\n",
       "      <td>-60</td>\n",
       "      <td>-54</td>\n",
       "      <td>-70</td>\n",
       "      <td>-74</td>\n",
       "      <td>-79</td>\n",
       "      <td>-86</td>\n",
       "      <td>-51</td>\n",
       "      <td>-53</td>\n",
       "      <td>5</td>\n",
       "    </tr>\n",
       "    <tr>\n",
       "      <th>2</th>\n",
       "      <td>-60</td>\n",
       "      <td>-54</td>\n",
       "      <td>-76</td>\n",
       "      <td>-74</td>\n",
       "      <td>-72</td>\n",
       "      <td>-86</td>\n",
       "      <td>-53</td>\n",
       "      <td>-53</td>\n",
       "      <td>5</td>\n",
       "    </tr>\n",
       "    <tr>\n",
       "      <th>3</th>\n",
       "      <td>-60</td>\n",
       "      <td>-54</td>\n",
       "      <td>-68</td>\n",
       "      <td>-74</td>\n",
       "      <td>-71</td>\n",
       "      <td>-88</td>\n",
       "      <td>-50</td>\n",
       "      <td>-53</td>\n",
       "      <td>5</td>\n",
       "    </tr>\n",
       "    <tr>\n",
       "      <th>4</th>\n",
       "      <td>-61</td>\n",
       "      <td>-57</td>\n",
       "      <td>-80</td>\n",
       "      <td>-78</td>\n",
       "      <td>-72</td>\n",
       "      <td>-84</td>\n",
       "      <td>-53</td>\n",
       "      <td>-56</td>\n",
       "      <td>5</td>\n",
       "    </tr>\n",
       "  </tbody>\n",
       "</table>\n",
       "</div>"
      ],
      "text/plain": [
       "   StudBME1  STUDBME2  SBME_STAFF3  SBME_STAFF  RehabLab  lab001  CMP_LAB1  \\\n",
       "0       -60       -55          -63         -86       -72     -86       -55   \n",
       "1       -60       -54          -70         -74       -79     -86       -51   \n",
       "2       -60       -54          -76         -74       -72     -86       -53   \n",
       "3       -60       -54          -68         -74       -71     -88       -50   \n",
       "4       -61       -57          -80         -78       -72     -84       -53   \n",
       "\n",
       "   CMP_LAB2  location  \n",
       "0       -58         5  \n",
       "1       -53         5  \n",
       "2       -53         5  \n",
       "3       -53         5  \n",
       "4       -56         5  "
      ]
     },
     "execution_count": 26,
     "metadata": {},
     "output_type": "execute_result"
    }
   ],
   "source": [
    "df_hall_5.head()"
   ]
  },
  {
   "cell_type": "code",
   "execution_count": 27,
   "metadata": {},
   "outputs": [
    {
     "data": {
      "text/html": [
       "<div>\n",
       "<style scoped>\n",
       "    .dataframe tbody tr th:only-of-type {\n",
       "        vertical-align: middle;\n",
       "    }\n",
       "\n",
       "    .dataframe tbody tr th {\n",
       "        vertical-align: top;\n",
       "    }\n",
       "\n",
       "    .dataframe thead th {\n",
       "        text-align: right;\n",
       "    }\n",
       "</style>\n",
       "<table border=\"1\" class=\"dataframe\">\n",
       "  <thead>\n",
       "    <tr style=\"text-align: right;\">\n",
       "      <th></th>\n",
       "      <th>StudBME1</th>\n",
       "      <th>STUDBME2</th>\n",
       "      <th>SBME_STAFF3</th>\n",
       "      <th>SBME_STAFF</th>\n",
       "      <th>RehabLab</th>\n",
       "      <th>lab001</th>\n",
       "      <th>CMP_LAB1</th>\n",
       "      <th>CMP_LAB2</th>\n",
       "      <th>location</th>\n",
       "    </tr>\n",
       "  </thead>\n",
       "  <tbody>\n",
       "    <tr>\n",
       "      <th>0</th>\n",
       "      <td>-74</td>\n",
       "      <td>-59</td>\n",
       "      <td>-84</td>\n",
       "      <td>-68</td>\n",
       "      <td>-81</td>\n",
       "      <td>-83</td>\n",
       "      <td>-67</td>\n",
       "      <td>-67</td>\n",
       "      <td>6</td>\n",
       "    </tr>\n",
       "    <tr>\n",
       "      <th>1</th>\n",
       "      <td>-66</td>\n",
       "      <td>-58</td>\n",
       "      <td>-75</td>\n",
       "      <td>-71</td>\n",
       "      <td>-81</td>\n",
       "      <td>-83</td>\n",
       "      <td>-56</td>\n",
       "      <td>-56</td>\n",
       "      <td>6</td>\n",
       "    </tr>\n",
       "    <tr>\n",
       "      <th>2</th>\n",
       "      <td>-66</td>\n",
       "      <td>-56</td>\n",
       "      <td>-77</td>\n",
       "      <td>-74</td>\n",
       "      <td>-75</td>\n",
       "      <td>-83</td>\n",
       "      <td>-60</td>\n",
       "      <td>-61</td>\n",
       "      <td>6</td>\n",
       "    </tr>\n",
       "    <tr>\n",
       "      <th>3</th>\n",
       "      <td>-66</td>\n",
       "      <td>-55</td>\n",
       "      <td>-78</td>\n",
       "      <td>-74</td>\n",
       "      <td>-80</td>\n",
       "      <td>-83</td>\n",
       "      <td>-60</td>\n",
       "      <td>-52</td>\n",
       "      <td>6</td>\n",
       "    </tr>\n",
       "    <tr>\n",
       "      <th>4</th>\n",
       "      <td>-73</td>\n",
       "      <td>-59</td>\n",
       "      <td>-76</td>\n",
       "      <td>-74</td>\n",
       "      <td>-82</td>\n",
       "      <td>-86</td>\n",
       "      <td>-60</td>\n",
       "      <td>-52</td>\n",
       "      <td>6</td>\n",
       "    </tr>\n",
       "  </tbody>\n",
       "</table>\n",
       "</div>"
      ],
      "text/plain": [
       "   StudBME1  STUDBME2  SBME_STAFF3  SBME_STAFF  RehabLab  lab001  CMP_LAB1  \\\n",
       "0       -74       -59          -84         -68       -81     -83       -67   \n",
       "1       -66       -58          -75         -71       -81     -83       -56   \n",
       "2       -66       -56          -77         -74       -75     -83       -60   \n",
       "3       -66       -55          -78         -74       -80     -83       -60   \n",
       "4       -73       -59          -76         -74       -82     -86       -60   \n",
       "\n",
       "   CMP_LAB2  location  \n",
       "0       -67         6  \n",
       "1       -56         6  \n",
       "2       -61         6  \n",
       "3       -52         6  \n",
       "4       -52         6  "
      ]
     },
     "execution_count": 27,
     "metadata": {},
     "output_type": "execute_result"
    }
   ],
   "source": [
    "df_hall_6.head()"
   ]
  },
  {
   "cell_type": "code",
   "execution_count": 28,
   "metadata": {},
   "outputs": [
    {
     "name": "stdout",
     "output_type": "stream",
     "text": [
      "<class 'pandas.core.frame.DataFrame'>\n",
      "RangeIndex: 1053 entries, 0 to 1052\n",
      "Data columns (total 9 columns):\n",
      " #   Column       Non-Null Count  Dtype  \n",
      "---  ------       --------------  -----  \n",
      " 0   StudBME1     1053 non-null   float64\n",
      " 1   STUDBME2     1053 non-null   float64\n",
      " 2   SBME_STAFF3  1053 non-null   float64\n",
      " 3   SBME_STAFF   1053 non-null   float64\n",
      " 4   RehabLab     1053 non-null   float64\n",
      " 5   lab001       1053 non-null   float64\n",
      " 6   CMP_LAB1     1053 non-null   float64\n",
      " 7   CMP_LAB2     1053 non-null   float64\n",
      " 8   location     1053 non-null   int64  \n",
      "dtypes: float64(8), int64(1)\n",
      "memory usage: 74.2 KB\n"
     ]
    }
   ],
   "source": [
    "df = pd.concat(dfs, ignore_index=True)\n",
    "df.info()"
   ]
  },
  {
   "cell_type": "code",
   "execution_count": 29,
   "metadata": {},
   "outputs": [],
   "source": [
    "df = df.sample(frac=1)"
   ]
  },
  {
   "cell_type": "code",
   "execution_count": 30,
   "metadata": {},
   "outputs": [
    {
     "data": {
      "text/html": [
       "<div>\n",
       "<style scoped>\n",
       "    .dataframe tbody tr th:only-of-type {\n",
       "        vertical-align: middle;\n",
       "    }\n",
       "\n",
       "    .dataframe tbody tr th {\n",
       "        vertical-align: top;\n",
       "    }\n",
       "\n",
       "    .dataframe thead th {\n",
       "        text-align: right;\n",
       "    }\n",
       "</style>\n",
       "<table border=\"1\" class=\"dataframe\">\n",
       "  <thead>\n",
       "    <tr style=\"text-align: right;\">\n",
       "      <th></th>\n",
       "      <th>StudBME1</th>\n",
       "      <th>STUDBME2</th>\n",
       "      <th>SBME_STAFF3</th>\n",
       "      <th>SBME_STAFF</th>\n",
       "      <th>RehabLab</th>\n",
       "      <th>lab001</th>\n",
       "      <th>CMP_LAB1</th>\n",
       "      <th>CMP_LAB2</th>\n",
       "      <th>location</th>\n",
       "    </tr>\n",
       "  </thead>\n",
       "  <tbody>\n",
       "    <tr>\n",
       "      <th>379</th>\n",
       "      <td>-91.0</td>\n",
       "      <td>-82.0</td>\n",
       "      <td>-60.0</td>\n",
       "      <td>-89.0</td>\n",
       "      <td>-58.0</td>\n",
       "      <td>-89.0</td>\n",
       "      <td>-69.0</td>\n",
       "      <td>-70.0</td>\n",
       "      <td>3</td>\n",
       "    </tr>\n",
       "    <tr>\n",
       "      <th>156</th>\n",
       "      <td>-89.0</td>\n",
       "      <td>-53.0</td>\n",
       "      <td>-89.0</td>\n",
       "      <td>-87.1</td>\n",
       "      <td>-87.0</td>\n",
       "      <td>-89.0</td>\n",
       "      <td>-74.0</td>\n",
       "      <td>-76.6</td>\n",
       "      <td>2</td>\n",
       "    </tr>\n",
       "    <tr>\n",
       "      <th>857</th>\n",
       "      <td>-69.0</td>\n",
       "      <td>-54.0</td>\n",
       "      <td>-62.0</td>\n",
       "      <td>-75.0</td>\n",
       "      <td>-61.0</td>\n",
       "      <td>-88.0</td>\n",
       "      <td>-42.0</td>\n",
       "      <td>-42.0</td>\n",
       "      <td>6</td>\n",
       "    </tr>\n",
       "    <tr>\n",
       "      <th>959</th>\n",
       "      <td>-85.0</td>\n",
       "      <td>-77.0</td>\n",
       "      <td>-87.0</td>\n",
       "      <td>-84.0</td>\n",
       "      <td>-86.0</td>\n",
       "      <td>-88.0</td>\n",
       "      <td>-68.0</td>\n",
       "      <td>-68.0</td>\n",
       "      <td>7</td>\n",
       "    </tr>\n",
       "    <tr>\n",
       "      <th>509</th>\n",
       "      <td>-62.0</td>\n",
       "      <td>-50.0</td>\n",
       "      <td>-85.0</td>\n",
       "      <td>-64.0</td>\n",
       "      <td>-79.0</td>\n",
       "      <td>-74.0</td>\n",
       "      <td>-70.0</td>\n",
       "      <td>-69.0</td>\n",
       "      <td>4</td>\n",
       "    </tr>\n",
       "  </tbody>\n",
       "</table>\n",
       "</div>"
      ],
      "text/plain": [
       "     StudBME1  STUDBME2  SBME_STAFF3  SBME_STAFF  RehabLab  lab001  CMP_LAB1  \\\n",
       "379     -91.0     -82.0        -60.0       -89.0     -58.0   -89.0     -69.0   \n",
       "156     -89.0     -53.0        -89.0       -87.1     -87.0   -89.0     -74.0   \n",
       "857     -69.0     -54.0        -62.0       -75.0     -61.0   -88.0     -42.0   \n",
       "959     -85.0     -77.0        -87.0       -84.0     -86.0   -88.0     -68.0   \n",
       "509     -62.0     -50.0        -85.0       -64.0     -79.0   -74.0     -70.0   \n",
       "\n",
       "     CMP_LAB2  location  \n",
       "379     -70.0         3  \n",
       "156     -76.6         2  \n",
       "857     -42.0         6  \n",
       "959     -68.0         7  \n",
       "509     -69.0         4  "
      ]
     },
     "execution_count": 30,
     "metadata": {},
     "output_type": "execute_result"
    }
   ],
   "source": [
    "df.head()"
   ]
  },
  {
   "cell_type": "markdown",
   "metadata": {},
   "source": [
    "<a id='model'></a>\n",
    "## Building the Model "
   ]
  },
  {
   "cell_type": "code",
   "execution_count": 31,
   "metadata": {},
   "outputs": [],
   "source": [
    "# Importations \n",
    "from sklearn.model_selection import train_test_split, GridSearchCV, cross_validate\n",
    "from sklearn.linear_model import LogisticRegression\n",
    "from sklearn.neighbors import KNeighborsClassifier\n",
    "from sklearn.naive_bayes import GaussianNB\n",
    "from sklearn.tree import DecisionTreeClassifier\n",
    "from sklearn.ensemble import RandomForestClassifier\n",
    "from sklearn.ensemble import AdaBoostClassifier\n",
    "from sklearn import datasets\n",
    "from sklearn.svm import SVC\n",
    "from sklearn.metrics import precision_score, recall_score, confusion_matrix, roc_auc_score, classification_report"
   ]
  },
  {
   "cell_type": "code",
   "execution_count": 32,
   "metadata": {},
   "outputs": [],
   "source": [
    "# Get target and feautre variables \n",
    "X = df.iloc[:, :-1].values\n",
    "y = df.iloc[:, -1].values"
   ]
  },
  {
   "cell_type": "code",
   "execution_count": 33,
   "metadata": {},
   "outputs": [],
   "source": [
    "classifiers = {\n",
    "    'knn': KNeighborsClassifier(5),\n",
    "    'NB': GaussianNB(),\n",
    "    'tree': DecisionTreeClassifier(max_depth=5),\n",
    "    'forest': RandomForestClassifier(n_estimators=10, max_depth=5),\n",
    "    'SV': SVC(probability=True, gamma=0.001),\n",
    "    'LR': LogisticRegression(solver='newton-cg', max_iter=300)\n",
    "}"
   ]
  },
  {
   "cell_type": "code",
   "execution_count": 34,
   "metadata": {},
   "outputs": [],
   "source": [
    "X_train, X_test, y_train, y_test = train_test_split(X, y, test_size=0.2, random_state=42)"
   ]
  },
  {
   "cell_type": "code",
   "execution_count": 35,
   "metadata": {},
   "outputs": [
    {
     "data": {
      "text/plain": [
       "4    127\n",
       "3    123\n",
       "7    121\n",
       "5    120\n",
       "1    120\n",
       "2    117\n",
       "6    114\n",
       "dtype: int64"
      ]
     },
     "execution_count": 35,
     "metadata": {},
     "output_type": "execute_result"
    }
   ],
   "source": [
    "# Check Balancing \n",
    "pd.Series(y_train).value_counts()"
   ]
  },
  {
   "cell_type": "code",
   "execution_count": 36,
   "metadata": {
    "scrolled": true
   },
   "outputs": [
    {
     "data": {
      "text/plain": [
       "array([[-69. , -53. , -89. , ..., -67. , -67. , -60. ],\n",
       "       [-57. , -51. , -89. , ..., -67. , -68. , -66. ],\n",
       "       [-63. , -70. , -91. , ..., -87. , -72. , -85. ],\n",
       "       ...,\n",
       "       [-69. , -50. , -77. , ..., -88. , -52. , -52. ],\n",
       "       [-82. , -71. , -89.7, ..., -87. , -82. , -85. ],\n",
       "       [-64. , -46. , -88. , ..., -71. , -68. , -63. ]])"
      ]
     },
     "execution_count": 36,
     "metadata": {},
     "output_type": "execute_result"
    }
   ],
   "source": [
    "X_train"
   ]
  },
  {
   "cell_type": "code",
   "execution_count": 37,
   "metadata": {},
   "outputs": [
    {
     "name": "stdout",
     "output_type": "stream",
     "text": [
      "Training knn model .. \n",
      "test_f1_weighted 0.9117340062227834\n",
      "test_roc_auc_ovr 0.9842096744935246\n",
      "test_precicison 0.9164250288304909\n",
      "test_recall 0.9120868347338936\n",
      "accuracy 0.9120868347338936\n",
      "\n",
      "\n",
      "Training NB model .. \n",
      "test_f1_weighted 0.8835826966008187\n",
      "test_roc_auc_ovr 0.9904888606567029\n",
      "test_precicison 0.8866601129962476\n",
      "test_recall 0.8847619047619049\n",
      "accuracy 0.8847619047619049\n",
      "\n",
      "\n",
      "Training tree model .. \n",
      "test_f1_weighted 0.8360668392205598\n",
      "test_roc_auc_ovr 0.9582075595452508\n",
      "test_precicison 0.8532576999742718\n",
      "test_recall 0.834873949579832\n",
      "accuracy 0.834873949579832\n",
      "\n",
      "\n",
      "Training forest model .. \n",
      "test_f1_weighted 0.8896888266037163\n",
      "test_roc_auc_ovr 0.98751434159693\n",
      "test_precicison 0.8940057727053524\n",
      "test_recall 0.8906862745098039\n",
      "accuracy 0.8906862745098039\n",
      "\n",
      "\n",
      "Training SV model .. \n",
      "test_f1_weighted 0.9062503770259159\n",
      "test_roc_auc_ovr 0.992108876398331\n",
      "test_precicison 0.9110448833768162\n",
      "test_recall 0.9061904761904762\n",
      "accuracy 0.9061904761904762\n",
      "\n",
      "\n",
      "Training LR model .. \n"
     ]
    },
    {
     "name": "stderr",
     "output_type": "stream",
     "text": [
      "/home/ahmad-lap/anaconda3/lib/python3.8/site-packages/sklearn/utils/optimize.py:211: ConvergenceWarning: newton-cg failed to converge. Increase the number of iterations.\n",
      "  warnings.warn(\"newton-cg failed to converge. Increase the \"\n",
      "/home/ahmad-lap/anaconda3/lib/python3.8/site-packages/sklearn/utils/optimize.py:211: ConvergenceWarning: newton-cg failed to converge. Increase the number of iterations.\n",
      "  warnings.warn(\"newton-cg failed to converge. Increase the \"\n",
      "/home/ahmad-lap/anaconda3/lib/python3.8/site-packages/sklearn/utils/optimize.py:211: ConvergenceWarning: newton-cg failed to converge. Increase the number of iterations.\n",
      "  warnings.warn(\"newton-cg failed to converge. Increase the \"\n",
      "/home/ahmad-lap/anaconda3/lib/python3.8/site-packages/sklearn/utils/optimize.py:211: ConvergenceWarning: newton-cg failed to converge. Increase the number of iterations.\n",
      "  warnings.warn(\"newton-cg failed to converge. Increase the \"\n"
     ]
    },
    {
     "name": "stdout",
     "output_type": "stream",
     "text": [
      "test_f1_weighted 0.8993858720833693\n",
      "test_roc_auc_ovr 0.9904969975642194\n",
      "test_precicison 0.9040491089209578\n",
      "test_recall 0.9002521008403361\n",
      "accuracy 0.9002521008403361\n",
      "\n",
      "\n"
     ]
    }
   ],
   "source": [
    "# Metrics \n",
    "metrics = ['accuracy', 'f1_weighted', 'roc_auc_ovr_weighted', 'precision_weighted', 'recall_weighted']\n",
    "\n",
    "# Cross Validate the models \n",
    "scores = {}\n",
    "for name, clf in classifiers.items():\n",
    "    print(f'Training {name} model .. ')\n",
    "    res = cross_validate(clf, X_train, y_train, cv=10, scoring=metrics, return_estimator=True)\n",
    "#     print(res)\n",
    "    \n",
    "    score = {\"test_f1_weighted\": np.mean(res['test_f1_weighted']), \n",
    "             'test_roc_auc_ovr_weighted': np.mean(res['test_roc_auc_ovr_weighted']), \n",
    "             'test_precision_weighted': np.mean(res['test_precision_weighted']),\n",
    "             'test_recall_weighted': np.mean(res['test_recall_weighted']),\n",
    "             'test_accuracy': np.mean(res['test_accuracy']),\n",
    "             'estimator': res['estimator'][0]\n",
    "            }\n",
    "    \n",
    "    print(\"test_f1_weighted\", score['test_f1_weighted'])\n",
    "    print('test_roc_auc_ovr', score['test_roc_auc_ovr_weighted'])\n",
    "    print('test_precicison', score['test_precision_weighted'])\n",
    "    print('test_recall', score['test_recall_weighted'])\n",
    "    print('accuracy', score['test_accuracy'])\n",
    "    print('\\n')\n",
    "    \n",
    "    # Add each model`s scores to scores\n",
    "    scores[name] = score"
   ]
  },
  {
   "cell_type": "markdown",
   "metadata": {},
   "source": [
    "### Desicion "
   ]
  },
  {
   "cell_type": "markdown",
   "metadata": {},
   "source": [
    "According to our application we decided to choose our model according to the F1 Score"
   ]
  },
  {
   "cell_type": "code",
   "execution_count": 38,
   "metadata": {},
   "outputs": [
    {
     "name": "stdout",
     "output_type": "stream",
     "text": [
      "The best estimator is SV with Score 0.992108876398331 (test_roc_auc_ovr_weighted)\n"
     ]
    }
   ],
   "source": [
    "# Find the best estimator according to one metric\n",
    "choosen = 'test_roc_auc_ovr_weighted'\n",
    "best_metric = [(name, res[choosen]) for name, res in scores.items()]\n",
    "best_estimator = max(best_metric, key=lambda x: x[1])\n",
    "print(f\"The best estimator is {best_estimator[0]} with Score {best_estimator[1]} ({choosen})\")"
   ]
  },
  {
   "cell_type": "code",
   "execution_count": 39,
   "metadata": {},
   "outputs": [
    {
     "data": {
      "text/plain": [
       "SVC(gamma=0.001, probability=True)"
      ]
     },
     "execution_count": 39,
     "metadata": {},
     "output_type": "execute_result"
    }
   ],
   "source": [
    "# Fetch Estimator Object\n",
    "# choosen_estimator = scores[best_estimator[0]]['estimator']\n",
    "choosen_estimator = classifiers[best_estimator[0]]\n",
    "choosen_estimator"
   ]
  },
  {
   "cell_type": "code",
   "execution_count": 40,
   "metadata": {},
   "outputs": [
    {
     "data": {
      "text/plain": [
       "SVC(gamma=0.001, probability=True)"
      ]
     },
     "execution_count": 40,
     "metadata": {},
     "output_type": "execute_result"
    }
   ],
   "source": [
    "# Train the choosen model\n",
    "choosen_estimator.fit(X_train, y_train)"
   ]
  },
  {
   "cell_type": "code",
   "execution_count": 41,
   "metadata": {},
   "outputs": [],
   "source": [
    "# Predict Using the choosen estimator \n",
    "res = choosen_estimator.predict(X_test)"
   ]
  },
  {
   "cell_type": "markdown",
   "metadata": {},
   "source": [
    "#### Reporting the results "
   ]
  },
  {
   "cell_type": "code",
   "execution_count": 42,
   "metadata": {},
   "outputs": [
    {
     "data": {
      "text/plain": [
       "array([[30,  0,  0,  0,  0,  0,  1],\n",
       "       [ 0, 32,  0,  0,  0,  0,  0],\n",
       "       [ 0,  0, 28,  0,  0,  0,  0],\n",
       "       [ 0,  0,  0, 20,  3,  0,  1],\n",
       "       [ 0,  0,  0,  4, 26,  1,  0],\n",
       "       [ 0,  0,  0,  0, 10, 26,  0],\n",
       "       [ 0,  1,  0,  4,  0,  0, 24]])"
      ]
     },
     "execution_count": 42,
     "metadata": {},
     "output_type": "execute_result"
    }
   ],
   "source": [
    "# Print the confusion matrix\n",
    "confusion_matrix(y_test, res)"
   ]
  },
  {
   "cell_type": "code",
   "execution_count": 43,
   "metadata": {},
   "outputs": [
    {
     "name": "stdout",
     "output_type": "stream",
     "text": [
      "              precision    recall  f1-score   support\n",
      "\n",
      "           1       1.00      0.97      0.98        31\n",
      "           2       0.97      1.00      0.98        32\n",
      "           3       1.00      1.00      1.00        28\n",
      "           4       0.71      0.83      0.77        24\n",
      "           5       0.67      0.84      0.74        31\n",
      "           6       0.96      0.72      0.83        36\n",
      "           7       0.92      0.83      0.87        29\n",
      "\n",
      "    accuracy                           0.88       211\n",
      "   macro avg       0.89      0.88      0.88       211\n",
      "weighted avg       0.90      0.88      0.88       211\n",
      "\n"
     ]
    }
   ],
   "source": [
    "# Show The classification Report\n",
    "print(classification_report(y_test, res))"
   ]
  },
  {
   "cell_type": "code",
   "execution_count": 44,
   "metadata": {},
   "outputs": [],
   "source": [
    "# Save the model \n",
    "from joblib import dump"
   ]
  },
  {
   "cell_type": "code",
   "execution_count": 45,
   "metadata": {},
   "outputs": [
    {
     "data": {
      "text/plain": [
       "['child/model.joblib']"
      ]
     },
     "execution_count": 45,
     "metadata": {},
     "output_type": "execute_result"
    }
   ],
   "source": [
    "dump(choosen_estimator, 'child/model.joblib')"
   ]
  },
  {
   "cell_type": "code",
   "execution_count": null,
   "metadata": {},
   "outputs": [],
   "source": []
  },
  {
   "cell_type": "code",
   "execution_count": 51,
   "metadata": {},
   "outputs": [],
   "source": [
    "from sklearn.feature_selection import RFE"
   ]
  },
  {
   "cell_type": "code",
   "execution_count": 59,
   "metadata": {},
   "outputs": [],
   "source": [
    "selector = RFE(LogisticRegression(solver='newton-cg'), n_features_to_select=5, verbose=1)"
   ]
  },
  {
   "cell_type": "code",
   "execution_count": 60,
   "metadata": {},
   "outputs": [
    {
     "name": "stdout",
     "output_type": "stream",
     "text": [
      "Fitting estimator with 8 features.\n"
     ]
    },
    {
     "name": "stderr",
     "output_type": "stream",
     "text": [
      "/home/ahmad-lap/anaconda3/lib/python3.8/site-packages/sklearn/utils/optimize.py:211: ConvergenceWarning: newton-cg failed to converge. Increase the number of iterations.\n",
      "  warnings.warn(\"newton-cg failed to converge. Increase the \"\n"
     ]
    },
    {
     "name": "stdout",
     "output_type": "stream",
     "text": [
      "Fitting estimator with 7 features.\n"
     ]
    },
    {
     "name": "stderr",
     "output_type": "stream",
     "text": [
      "/home/ahmad-lap/anaconda3/lib/python3.8/site-packages/sklearn/utils/optimize.py:211: ConvergenceWarning: newton-cg failed to converge. Increase the number of iterations.\n",
      "  warnings.warn(\"newton-cg failed to converge. Increase the \"\n"
     ]
    },
    {
     "name": "stdout",
     "output_type": "stream",
     "text": [
      "Fitting estimator with 6 features.\n"
     ]
    },
    {
     "name": "stderr",
     "output_type": "stream",
     "text": [
      "/home/ahmad-lap/anaconda3/lib/python3.8/site-packages/sklearn/utils/optimize.py:211: ConvergenceWarning: newton-cg failed to converge. Increase the number of iterations.\n",
      "  warnings.warn(\"newton-cg failed to converge. Increase the \"\n",
      "/home/ahmad-lap/anaconda3/lib/python3.8/site-packages/sklearn/utils/optimize.py:211: ConvergenceWarning: newton-cg failed to converge. Increase the number of iterations.\n",
      "  warnings.warn(\"newton-cg failed to converge. Increase the \"\n"
     ]
    }
   ],
   "source": [
    "res= selector.fit(X_train, y_train)"
   ]
  },
  {
   "cell_type": "code",
   "execution_count": 61,
   "metadata": {},
   "outputs": [
    {
     "data": {
      "text/plain": [
       "RFE(estimator=LogisticRegression(solver='newton-cg'), n_features_to_select=5,\n",
       "    verbose=1)"
      ]
     },
     "execution_count": 61,
     "metadata": {},
     "output_type": "execute_result"
    }
   ],
   "source": [
    "res"
   ]
  },
  {
   "cell_type": "code",
   "execution_count": 62,
   "metadata": {},
   "outputs": [
    {
     "data": {
      "text/plain": [
       "array([ True, False,  True, False,  True,  True, False,  True])"
      ]
     },
     "execution_count": 62,
     "metadata": {},
     "output_type": "execute_result"
    }
   ],
   "source": [
    "res.support_"
   ]
  },
  {
   "cell_type": "code",
   "execution_count": 68,
   "metadata": {},
   "outputs": [
    {
     "data": {
      "text/plain": [
       "Index(['StudBME1', 'SBME_STAFF3', 'RehabLab', 'lab001', 'CMP_LAB2'], dtype='object')"
      ]
     },
     "execution_count": 68,
     "metadata": {},
     "output_type": "execute_result"
    }
   ],
   "source": [
    "df_lab.columns[:-1][res.support_]"
   ]
  },
  {
   "cell_type": "code",
   "execution_count": null,
   "metadata": {},
   "outputs": [],
   "source": []
  }
 ],
 "metadata": {
  "kernelspec": {
   "display_name": "Python 3",
   "language": "python",
   "name": "python3"
  },
  "language_info": {
   "codemirror_mode": {
    "name": "ipython",
    "version": 3
   },
   "file_extension": ".py",
   "mimetype": "text/x-python",
   "name": "python",
   "nbconvert_exporter": "python",
   "pygments_lexer": "ipython3",
   "version": "3.8.3"
  }
 },
 "nbformat": 4,
 "nbformat_minor": 4
}
