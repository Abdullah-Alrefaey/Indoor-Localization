{
 "cells": [
  {
   "cell_type": "markdown",
   "metadata": {},
   "source": [
    "# Localization System"
   ]
  },
  {
   "cell_type": "markdown",
   "metadata": {},
   "source": [
    "## Table of Content \n",
    "<ul>\n",
    "<li><a href=\"#intro\">Introduction</a></li>\n",
    "<li><a href=\"#wrangling\">Data Wrangling</a></li>\n",
    "<!-- <li><a href=\"#eda\">Exploratory Data Analysis</a></li> -->\n",
    "<li><a href=\"#model\"> Building a model </a></li>\n",
    "</ul>"
   ]
  },
  {
   "cell_type": "markdown",
   "metadata": {},
   "source": [
    "<a id='intro'></a>\n",
    "## Introduction \n",
    "Localziation systems built using machine learning classifiers, data is collected at Cairo University Faculty of \n",
    "engineering Biomedical Engineering Department. The Data is a collection of WiFi\\`s strenghts (dbm) of 3 Wifi Networks available in the department. Identifying a patient\\`s location in a hospital is useful for many reasons one of which is to identify points of conjestions and try to rearrange the hospital survices, also used to identify how many patients are in the hospital. \n",
    "\n",
    "So We are going to dive into our gathered data and invetigate our findings. "
   ]
  },
  {
   "cell_type": "code",
   "execution_count": 1,
   "metadata": {},
   "outputs": [],
   "source": [
    "# Basic Importations \n",
    "import pandas as pd \n",
    "import numpy as np"
   ]
  },
  {
   "cell_type": "markdown",
   "metadata": {},
   "source": [
    "<a id=\"#wrangling\"></a>\n",
    "## Data Wrangling \n",
    "Let\\`s dive into our gathered data and find it\\`s secerets. "
   ]
  },
  {
   "cell_type": "code",
   "execution_count": 2,
   "metadata": {},
   "outputs": [
    {
     "data": {
      "text/html": [
       "<div>\n",
       "<style scoped>\n",
       "    .dataframe tbody tr th:only-of-type {\n",
       "        vertical-align: middle;\n",
       "    }\n",
       "\n",
       "    .dataframe tbody tr th {\n",
       "        vertical-align: top;\n",
       "    }\n",
       "\n",
       "    .dataframe thead th {\n",
       "        text-align: right;\n",
       "    }\n",
       "</style>\n",
       "<table border=\"1\" class=\"dataframe\">\n",
       "  <thead>\n",
       "    <tr style=\"text-align: right;\">\n",
       "      <th></th>\n",
       "      <th>StudBME1</th>\n",
       "      <th>STUDBME2</th>\n",
       "      <th>SBME_STAFF3</th>\n",
       "      <th>SBME_STAFF</th>\n",
       "      <th>CUFE</th>\n",
       "      <th>RehabLab</th>\n",
       "      <th>lab001</th>\n",
       "      <th>BMEStudentLab3</th>\n",
       "      <th>CMP_LAB</th>\n",
       "      <th>CMP_LAB1</th>\n",
       "      <th>CMP_LAB2</th>\n",
       "    </tr>\n",
       "  </thead>\n",
       "  <tbody>\n",
       "    <tr>\n",
       "      <th>count</th>\n",
       "      <td>149.000000</td>\n",
       "      <td>149.000000</td>\n",
       "      <td>149.000000</td>\n",
       "      <td>149.000000</td>\n",
       "      <td>149.000000</td>\n",
       "      <td>149.000000</td>\n",
       "      <td>149.000000</td>\n",
       "      <td>149.0</td>\n",
       "      <td>149.0</td>\n",
       "      <td>149.000000</td>\n",
       "      <td>149.000000</td>\n",
       "    </tr>\n",
       "    <tr>\n",
       "      <th>mean</th>\n",
       "      <td>-81.624161</td>\n",
       "      <td>-57.053691</td>\n",
       "      <td>-87.214765</td>\n",
       "      <td>-77.194631</td>\n",
       "      <td>-68.946309</td>\n",
       "      <td>-87.946309</td>\n",
       "      <td>-84.315436</td>\n",
       "      <td>0.0</td>\n",
       "      <td>0.0</td>\n",
       "      <td>-58.570470</td>\n",
       "      <td>-60.677852</td>\n",
       "    </tr>\n",
       "    <tr>\n",
       "      <th>std</th>\n",
       "      <td>12.310442</td>\n",
       "      <td>4.658304</td>\n",
       "      <td>2.255815</td>\n",
       "      <td>27.815919</td>\n",
       "      <td>35.480826</td>\n",
       "      <td>2.189611</td>\n",
       "      <td>4.304440</td>\n",
       "      <td>0.0</td>\n",
       "      <td>0.0</td>\n",
       "      <td>30.234948</td>\n",
       "      <td>31.482356</td>\n",
       "    </tr>\n",
       "    <tr>\n",
       "      <th>min</th>\n",
       "      <td>-89.000000</td>\n",
       "      <td>-73.000000</td>\n",
       "      <td>-93.000000</td>\n",
       "      <td>-89.000000</td>\n",
       "      <td>-90.000000</td>\n",
       "      <td>-94.000000</td>\n",
       "      <td>-92.000000</td>\n",
       "      <td>0.0</td>\n",
       "      <td>0.0</td>\n",
       "      <td>-85.000000</td>\n",
       "      <td>-87.000000</td>\n",
       "    </tr>\n",
       "    <tr>\n",
       "      <th>25%</th>\n",
       "      <td>-85.000000</td>\n",
       "      <td>-60.000000</td>\n",
       "      <td>-89.000000</td>\n",
       "      <td>-88.000000</td>\n",
       "      <td>-88.000000</td>\n",
       "      <td>-89.000000</td>\n",
       "      <td>-87.000000</td>\n",
       "      <td>0.0</td>\n",
       "      <td>0.0</td>\n",
       "      <td>-74.000000</td>\n",
       "      <td>-77.000000</td>\n",
       "    </tr>\n",
       "    <tr>\n",
       "      <th>50%</th>\n",
       "      <td>-84.000000</td>\n",
       "      <td>-58.000000</td>\n",
       "      <td>-87.000000</td>\n",
       "      <td>-87.000000</td>\n",
       "      <td>-87.000000</td>\n",
       "      <td>-88.000000</td>\n",
       "      <td>-85.000000</td>\n",
       "      <td>0.0</td>\n",
       "      <td>0.0</td>\n",
       "      <td>-73.000000</td>\n",
       "      <td>-74.000000</td>\n",
       "    </tr>\n",
       "    <tr>\n",
       "      <th>75%</th>\n",
       "      <td>-82.000000</td>\n",
       "      <td>-54.000000</td>\n",
       "      <td>-86.000000</td>\n",
       "      <td>-86.000000</td>\n",
       "      <td>-85.000000</td>\n",
       "      <td>-87.000000</td>\n",
       "      <td>-82.000000</td>\n",
       "      <td>0.0</td>\n",
       "      <td>0.0</td>\n",
       "      <td>-71.000000</td>\n",
       "      <td>-71.000000</td>\n",
       "    </tr>\n",
       "    <tr>\n",
       "      <th>max</th>\n",
       "      <td>0.000000</td>\n",
       "      <td>-47.000000</td>\n",
       "      <td>-80.000000</td>\n",
       "      <td>0.000000</td>\n",
       "      <td>0.000000</td>\n",
       "      <td>-78.000000</td>\n",
       "      <td>-71.000000</td>\n",
       "      <td>0.0</td>\n",
       "      <td>0.0</td>\n",
       "      <td>0.000000</td>\n",
       "      <td>0.000000</td>\n",
       "    </tr>\n",
       "  </tbody>\n",
       "</table>\n",
       "</div>"
      ],
      "text/plain": [
       "         StudBME1    STUDBME2  SBME_STAFF3  SBME_STAFF        CUFE  \\\n",
       "count  149.000000  149.000000   149.000000  149.000000  149.000000   \n",
       "mean   -81.624161  -57.053691   -87.214765  -77.194631  -68.946309   \n",
       "std     12.310442    4.658304     2.255815   27.815919   35.480826   \n",
       "min    -89.000000  -73.000000   -93.000000  -89.000000  -90.000000   \n",
       "25%    -85.000000  -60.000000   -89.000000  -88.000000  -88.000000   \n",
       "50%    -84.000000  -58.000000   -87.000000  -87.000000  -87.000000   \n",
       "75%    -82.000000  -54.000000   -86.000000  -86.000000  -85.000000   \n",
       "max      0.000000  -47.000000   -80.000000    0.000000    0.000000   \n",
       "\n",
       "         RehabLab      lab001  BMEStudentLab3  CMP_LAB    CMP_LAB1    CMP_LAB2  \n",
       "count  149.000000  149.000000           149.0    149.0  149.000000  149.000000  \n",
       "mean   -87.946309  -84.315436             0.0      0.0  -58.570470  -60.677852  \n",
       "std      2.189611    4.304440             0.0      0.0   30.234948   31.482356  \n",
       "min    -94.000000  -92.000000             0.0      0.0  -85.000000  -87.000000  \n",
       "25%    -89.000000  -87.000000             0.0      0.0  -74.000000  -77.000000  \n",
       "50%    -88.000000  -85.000000             0.0      0.0  -73.000000  -74.000000  \n",
       "75%    -87.000000  -82.000000             0.0      0.0  -71.000000  -71.000000  \n",
       "max    -78.000000  -71.000000             0.0      0.0    0.000000    0.000000  "
      ]
     },
     "execution_count": 2,
     "metadata": {},
     "output_type": "execute_result"
    }
   ],
   "source": [
    "# Read our datasets \n",
    "df_ta = pd.read_csv('esp_csv_only/csv/Ta.csv')\n",
    "df_lab = pd.read_csv('esp_csv_only/csv/Lab.csv')\n",
    "\n",
    "# Show Heads \n",
    "df_lab.describe()"
   ]
  },
  {
   "cell_type": "code",
   "execution_count": 3,
   "metadata": {},
   "outputs": [
    {
     "data": {
      "text/html": [
       "<div>\n",
       "<style scoped>\n",
       "    .dataframe tbody tr th:only-of-type {\n",
       "        vertical-align: middle;\n",
       "    }\n",
       "\n",
       "    .dataframe tbody tr th {\n",
       "        vertical-align: top;\n",
       "    }\n",
       "\n",
       "    .dataframe thead th {\n",
       "        text-align: right;\n",
       "    }\n",
       "</style>\n",
       "<table border=\"1\" class=\"dataframe\">\n",
       "  <thead>\n",
       "    <tr style=\"text-align: right;\">\n",
       "      <th></th>\n",
       "      <th>StudBME1</th>\n",
       "      <th>STUDBME2</th>\n",
       "      <th>SBME_STAFF3</th>\n",
       "      <th>SBME_STAFF</th>\n",
       "      <th>CUFE</th>\n",
       "      <th>RehabLab</th>\n",
       "      <th>lab001</th>\n",
       "      <th>BMEStudentLab3</th>\n",
       "      <th>CMP_LAB</th>\n",
       "      <th>CMP_LAB1</th>\n",
       "      <th>CMP_LAB2</th>\n",
       "    </tr>\n",
       "  </thead>\n",
       "  <tbody>\n",
       "    <tr>\n",
       "      <th>count</th>\n",
       "      <td>151.000000</td>\n",
       "      <td>151.000000</td>\n",
       "      <td>151.000000</td>\n",
       "      <td>151.000000</td>\n",
       "      <td>151.000000</td>\n",
       "      <td>151.000000</td>\n",
       "      <td>151.000000</td>\n",
       "      <td>151.0</td>\n",
       "      <td>151.0</td>\n",
       "      <td>151.000000</td>\n",
       "      <td>151.000000</td>\n",
       "    </tr>\n",
       "    <tr>\n",
       "      <th>mean</th>\n",
       "      <td>-78.980132</td>\n",
       "      <td>-69.589404</td>\n",
       "      <td>-71.913907</td>\n",
       "      <td>-84.940397</td>\n",
       "      <td>-83.238411</td>\n",
       "      <td>-68.847682</td>\n",
       "      <td>-86.317881</td>\n",
       "      <td>0.0</td>\n",
       "      <td>0.0</td>\n",
       "      <td>-77.874172</td>\n",
       "      <td>-75.317881</td>\n",
       "    </tr>\n",
       "    <tr>\n",
       "      <th>std</th>\n",
       "      <td>10.841568</td>\n",
       "      <td>9.522795</td>\n",
       "      <td>35.969420</td>\n",
       "      <td>10.426397</td>\n",
       "      <td>19.977557</td>\n",
       "      <td>37.952909</td>\n",
       "      <td>10.471785</td>\n",
       "      <td>0.0</td>\n",
       "      <td>0.0</td>\n",
       "      <td>20.161781</td>\n",
       "      <td>25.352021</td>\n",
       "    </tr>\n",
       "    <tr>\n",
       "      <th>min</th>\n",
       "      <td>-92.000000</td>\n",
       "      <td>-85.000000</td>\n",
       "      <td>-95.000000</td>\n",
       "      <td>-95.000000</td>\n",
       "      <td>-91.000000</td>\n",
       "      <td>-93.000000</td>\n",
       "      <td>-95.000000</td>\n",
       "      <td>0.0</td>\n",
       "      <td>0.0</td>\n",
       "      <td>-90.000000</td>\n",
       "      <td>-89.000000</td>\n",
       "    </tr>\n",
       "    <tr>\n",
       "      <th>25%</th>\n",
       "      <td>-84.000000</td>\n",
       "      <td>-73.000000</td>\n",
       "      <td>-91.000000</td>\n",
       "      <td>-88.000000</td>\n",
       "      <td>-91.000000</td>\n",
       "      <td>-90.000000</td>\n",
       "      <td>-89.000000</td>\n",
       "      <td>0.0</td>\n",
       "      <td>0.0</td>\n",
       "      <td>-86.500000</td>\n",
       "      <td>-86.000000</td>\n",
       "    </tr>\n",
       "    <tr>\n",
       "      <th>50%</th>\n",
       "      <td>-80.000000</td>\n",
       "      <td>-70.000000</td>\n",
       "      <td>-91.000000</td>\n",
       "      <td>-86.000000</td>\n",
       "      <td>-87.000000</td>\n",
       "      <td>-90.000000</td>\n",
       "      <td>-88.000000</td>\n",
       "      <td>0.0</td>\n",
       "      <td>0.0</td>\n",
       "      <td>-82.000000</td>\n",
       "      <td>-83.000000</td>\n",
       "    </tr>\n",
       "    <tr>\n",
       "      <th>75%</th>\n",
       "      <td>-76.000000</td>\n",
       "      <td>-67.000000</td>\n",
       "      <td>-86.000000</td>\n",
       "      <td>-85.000000</td>\n",
       "      <td>-85.000000</td>\n",
       "      <td>-86.500000</td>\n",
       "      <td>-86.000000</td>\n",
       "      <td>0.0</td>\n",
       "      <td>0.0</td>\n",
       "      <td>-80.000000</td>\n",
       "      <td>-81.000000</td>\n",
       "    </tr>\n",
       "    <tr>\n",
       "      <th>max</th>\n",
       "      <td>0.000000</td>\n",
       "      <td>0.000000</td>\n",
       "      <td>0.000000</td>\n",
       "      <td>0.000000</td>\n",
       "      <td>0.000000</td>\n",
       "      <td>0.000000</td>\n",
       "      <td>0.000000</td>\n",
       "      <td>0.0</td>\n",
       "      <td>0.0</td>\n",
       "      <td>0.000000</td>\n",
       "      <td>0.000000</td>\n",
       "    </tr>\n",
       "  </tbody>\n",
       "</table>\n",
       "</div>"
      ],
      "text/plain": [
       "         StudBME1    STUDBME2  SBME_STAFF3  SBME_STAFF        CUFE  \\\n",
       "count  151.000000  151.000000   151.000000  151.000000  151.000000   \n",
       "mean   -78.980132  -69.589404   -71.913907  -84.940397  -83.238411   \n",
       "std     10.841568    9.522795    35.969420   10.426397   19.977557   \n",
       "min    -92.000000  -85.000000   -95.000000  -95.000000  -91.000000   \n",
       "25%    -84.000000  -73.000000   -91.000000  -88.000000  -91.000000   \n",
       "50%    -80.000000  -70.000000   -91.000000  -86.000000  -87.000000   \n",
       "75%    -76.000000  -67.000000   -86.000000  -85.000000  -85.000000   \n",
       "max      0.000000    0.000000     0.000000    0.000000    0.000000   \n",
       "\n",
       "         RehabLab      lab001  BMEStudentLab3  CMP_LAB    CMP_LAB1    CMP_LAB2  \n",
       "count  151.000000  151.000000           151.0    151.0  151.000000  151.000000  \n",
       "mean   -68.847682  -86.317881             0.0      0.0  -77.874172  -75.317881  \n",
       "std     37.952909   10.471785             0.0      0.0   20.161781   25.352021  \n",
       "min    -93.000000  -95.000000             0.0      0.0  -90.000000  -89.000000  \n",
       "25%    -90.000000  -89.000000             0.0      0.0  -86.500000  -86.000000  \n",
       "50%    -90.000000  -88.000000             0.0      0.0  -82.000000  -83.000000  \n",
       "75%    -86.500000  -86.000000             0.0      0.0  -80.000000  -81.000000  \n",
       "max      0.000000    0.000000             0.0      0.0    0.000000    0.000000  "
      ]
     },
     "execution_count": 3,
     "metadata": {},
     "output_type": "execute_result"
    }
   ],
   "source": [
    "df_ta.describe()"
   ]
  },
  {
   "cell_type": "markdown",
   "metadata": {},
   "source": [
    "The first look into the data insights the following:\n",
    "\n",
    "- BMEStudentLab3 & CMP_LAB are out of range and their values wont benefit our model. \n",
    "- There are a lot of zeros in the recorded data.\n",
    "\n",
    "### The Zeros problem :\n",
    "The data is recorded in a way that, if one of the specified wifi networks is not found or out of range it records the value for that moment as zero, according to the documentation of the ESP Module the strenghts of a wifi network is a value that ranges from -100 to -50 dB, -100 for bad network connectivity (Signal Strength) and -50 good network connnectivity.\n",
    "<img src=\"sources/wifi.jpeg\">\n",
    "So we can treat a zero value as miss recorded value (seems to be an error in the chip) and replace it with any method we want, we will stick with replacing with the mean for now. "
   ]
  },
  {
   "cell_type": "markdown",
   "metadata": {},
   "source": [
    "## Imputing miss calculated records "
   ]
  },
  {
   "cell_type": "code",
   "execution_count": 4,
   "metadata": {},
   "outputs": [],
   "source": [
    "# Drop the two bad coloumns \n",
    "bad_cols = [df_lab.BMEStudentLab3.name, df_lab.CMP_LAB.name]\n",
    "df_lab.drop(bad_cols, axis=1,inplace=True)\n",
    "df_ta.drop(bad_cols, axis=1, inplace=True)"
   ]
  },
  {
   "cell_type": "code",
   "execution_count": 5,
   "metadata": {},
   "outputs": [],
   "source": [
    "# Replace Zeros with the mean\n",
    "cols = df_lab.columns\n",
    "df_lab[cols] = df_lab[cols].replace({0:np.nan})\n",
    "df_ta[cols] = df_ta[cols].replace({0:np.nan})"
   ]
  },
  {
   "cell_type": "code",
   "execution_count": 6,
   "metadata": {},
   "outputs": [
    {
     "name": "stdout",
     "output_type": "stream",
     "text": [
      "<class 'pandas.core.frame.DataFrame'>\n",
      "RangeIndex: 149 entries, 0 to 148\n",
      "Data columns (total 9 columns):\n",
      " #   Column       Non-Null Count  Dtype  \n",
      "---  ------       --------------  -----  \n",
      " 0   StudBME1     146 non-null    float64\n",
      " 1   STUDBME2     149 non-null    float64\n",
      " 2   SBME_STAFF3  149 non-null    float64\n",
      " 3   SBME_STAFF   132 non-null    float64\n",
      " 4   CUFE         118 non-null    float64\n",
      " 5   RehabLab     149 non-null    float64\n",
      " 6   lab001       149 non-null    float64\n",
      " 7   CMP_LAB1     118 non-null    float64\n",
      " 8   CMP_LAB2     118 non-null    float64\n",
      "dtypes: float64(9)\n",
      "memory usage: 10.6 KB\n"
     ]
    }
   ],
   "source": [
    "df_lab.info()"
   ]
  },
  {
   "cell_type": "code",
   "execution_count": 7,
   "metadata": {},
   "outputs": [
    {
     "name": "stdout",
     "output_type": "stream",
     "text": [
      "<class 'pandas.core.frame.DataFrame'>\n",
      "RangeIndex: 151 entries, 0 to 150\n",
      "Data columns (total 9 columns):\n",
      " #   Column       Non-Null Count  Dtype  \n",
      "---  ------       --------------  -----  \n",
      " 0   StudBME1     149 non-null    float64\n",
      " 1   STUDBME2     149 non-null    float64\n",
      " 2   SBME_STAFF3  121 non-null    float64\n",
      " 3   SBME_STAFF   149 non-null    float64\n",
      " 4   CUFE         143 non-null    float64\n",
      " 5   RehabLab     116 non-null    float64\n",
      " 6   lab001       149 non-null    float64\n",
      " 7   CMP_LAB1     142 non-null    float64\n",
      " 8   CMP_LAB2     136 non-null    float64\n",
      "dtypes: float64(9)\n",
      "memory usage: 10.7 KB\n"
     ]
    }
   ],
   "source": [
    "df_ta.info()"
   ]
  },
  {
   "cell_type": "code",
   "execution_count": 8,
   "metadata": {},
   "outputs": [
    {
     "name": "stdout",
     "output_type": "stream",
     "text": [
      "['StudBME1', 'SBME_STAFF', 'CUFE', 'CMP_LAB1', 'CMP_LAB2']\n",
      "['StudBME1', 'STUDBME2', 'SBME_STAFF3', 'SBME_STAFF', 'CUFE', 'RehabLab', 'lab001', 'CMP_LAB1', 'CMP_LAB2']\n"
     ]
    }
   ],
   "source": [
    "# Find missing in coloumns and replace with mean\n",
    "miss_lab = []\n",
    "miss_ta = []\n",
    "\n",
    "for i in df_lab.columns:\n",
    "    missing_lab = df_lab[i].isnull().sum()\n",
    "    missing_ta = df_ta[i].isnull().sum()\n",
    "    \n",
    "    if missing_lab >0 :\n",
    "        miss_lab.append(i)\n",
    "        \n",
    "    if missing_ta >0:\n",
    "        miss_ta.append(i)\n",
    "print(miss_lab)\n",
    "print(miss_ta)"
   ]
  },
  {
   "cell_type": "code",
   "execution_count": 9,
   "metadata": {},
   "outputs": [],
   "source": [
    "# Replace missing with mean \n",
    "for col_lab in miss_lab:\n",
    "    df_lab[col_lab].fillna(round(df_lab[col_lab].mean(),1), inplace=True)\n",
    "\n",
    "for col_ta in miss_ta:\n",
    "    df_ta[col_ta].fillna(round(df_ta[col_ta].mean(), 1), inplace=True)\n"
   ]
  },
  {
   "cell_type": "code",
   "execution_count": 10,
   "metadata": {},
   "outputs": [
    {
     "name": "stdout",
     "output_type": "stream",
     "text": [
      "<class 'pandas.core.frame.DataFrame'>\n",
      "RangeIndex: 149 entries, 0 to 148\n",
      "Data columns (total 9 columns):\n",
      " #   Column       Non-Null Count  Dtype  \n",
      "---  ------       --------------  -----  \n",
      " 0   StudBME1     149 non-null    float64\n",
      " 1   STUDBME2     149 non-null    float64\n",
      " 2   SBME_STAFF3  149 non-null    float64\n",
      " 3   SBME_STAFF   149 non-null    float64\n",
      " 4   CUFE         149 non-null    float64\n",
      " 5   RehabLab     149 non-null    float64\n",
      " 6   lab001       149 non-null    float64\n",
      " 7   CMP_LAB1     149 non-null    float64\n",
      " 8   CMP_LAB2     149 non-null    float64\n",
      "dtypes: float64(9)\n",
      "memory usage: 10.6 KB\n"
     ]
    }
   ],
   "source": [
    "df_lab.info()"
   ]
  },
  {
   "cell_type": "code",
   "execution_count": 11,
   "metadata": {},
   "outputs": [
    {
     "name": "stdout",
     "output_type": "stream",
     "text": [
      "<class 'pandas.core.frame.DataFrame'>\n",
      "RangeIndex: 151 entries, 0 to 150\n",
      "Data columns (total 9 columns):\n",
      " #   Column       Non-Null Count  Dtype  \n",
      "---  ------       --------------  -----  \n",
      " 0   StudBME1     151 non-null    float64\n",
      " 1   STUDBME2     151 non-null    float64\n",
      " 2   SBME_STAFF3  151 non-null    float64\n",
      " 3   SBME_STAFF   151 non-null    float64\n",
      " 4   CUFE         151 non-null    float64\n",
      " 5   RehabLab     151 non-null    float64\n",
      " 6   lab001       151 non-null    float64\n",
      " 7   CMP_LAB1     151 non-null    float64\n",
      " 8   CMP_LAB2     151 non-null    float64\n",
      "dtypes: float64(9)\n",
      "memory usage: 10.7 KB\n"
     ]
    }
   ],
   "source": [
    "df_ta.info()"
   ]
  },
  {
   "cell_type": "code",
   "execution_count": 12,
   "metadata": {},
   "outputs": [],
   "source": [
    "# Set Classes for each location\n",
    "df_ta['location'] = 1\n",
    "df_lab['location']= 2"
   ]
  },
  {
   "cell_type": "code",
   "execution_count": 13,
   "metadata": {},
   "outputs": [
    {
     "data": {
      "text/html": [
       "<div>\n",
       "<style scoped>\n",
       "    .dataframe tbody tr th:only-of-type {\n",
       "        vertical-align: middle;\n",
       "    }\n",
       "\n",
       "    .dataframe tbody tr th {\n",
       "        vertical-align: top;\n",
       "    }\n",
       "\n",
       "    .dataframe thead th {\n",
       "        text-align: right;\n",
       "    }\n",
       "</style>\n",
       "<table border=\"1\" class=\"dataframe\">\n",
       "  <thead>\n",
       "    <tr style=\"text-align: right;\">\n",
       "      <th></th>\n",
       "      <th>StudBME1</th>\n",
       "      <th>STUDBME2</th>\n",
       "      <th>SBME_STAFF3</th>\n",
       "      <th>SBME_STAFF</th>\n",
       "      <th>CUFE</th>\n",
       "      <th>RehabLab</th>\n",
       "      <th>lab001</th>\n",
       "      <th>CMP_LAB1</th>\n",
       "      <th>CMP_LAB2</th>\n",
       "      <th>location</th>\n",
       "    </tr>\n",
       "  </thead>\n",
       "  <tbody>\n",
       "    <tr>\n",
       "      <th>0</th>\n",
       "      <td>-83.3</td>\n",
       "      <td>-65.0</td>\n",
       "      <td>-88.0</td>\n",
       "      <td>-87.1</td>\n",
       "      <td>-87.1</td>\n",
       "      <td>-87.0</td>\n",
       "      <td>-84.0</td>\n",
       "      <td>-74.0</td>\n",
       "      <td>-76.6</td>\n",
       "      <td>2</td>\n",
       "    </tr>\n",
       "    <tr>\n",
       "      <th>1</th>\n",
       "      <td>-83.3</td>\n",
       "      <td>-61.0</td>\n",
       "      <td>-90.0</td>\n",
       "      <td>-87.1</td>\n",
       "      <td>-87.1</td>\n",
       "      <td>-89.0</td>\n",
       "      <td>-87.0</td>\n",
       "      <td>-74.0</td>\n",
       "      <td>-76.6</td>\n",
       "      <td>2</td>\n",
       "    </tr>\n",
       "    <tr>\n",
       "      <th>2</th>\n",
       "      <td>-83.3</td>\n",
       "      <td>-55.0</td>\n",
       "      <td>-90.0</td>\n",
       "      <td>-87.1</td>\n",
       "      <td>-87.1</td>\n",
       "      <td>-88.0</td>\n",
       "      <td>-87.0</td>\n",
       "      <td>-74.0</td>\n",
       "      <td>-76.6</td>\n",
       "      <td>2</td>\n",
       "    </tr>\n",
       "    <tr>\n",
       "      <th>3</th>\n",
       "      <td>-87.0</td>\n",
       "      <td>-55.0</td>\n",
       "      <td>-88.0</td>\n",
       "      <td>-87.1</td>\n",
       "      <td>-87.1</td>\n",
       "      <td>-87.0</td>\n",
       "      <td>-91.0</td>\n",
       "      <td>-74.0</td>\n",
       "      <td>-76.6</td>\n",
       "      <td>2</td>\n",
       "    </tr>\n",
       "    <tr>\n",
       "      <th>4</th>\n",
       "      <td>-89.0</td>\n",
       "      <td>-60.0</td>\n",
       "      <td>-89.0</td>\n",
       "      <td>-87.1</td>\n",
       "      <td>-87.1</td>\n",
       "      <td>-87.0</td>\n",
       "      <td>-87.0</td>\n",
       "      <td>-74.0</td>\n",
       "      <td>-76.6</td>\n",
       "      <td>2</td>\n",
       "    </tr>\n",
       "  </tbody>\n",
       "</table>\n",
       "</div>"
      ],
      "text/plain": [
       "   StudBME1  STUDBME2  SBME_STAFF3  SBME_STAFF  CUFE  RehabLab  lab001  \\\n",
       "0     -83.3     -65.0        -88.0       -87.1 -87.1     -87.0   -84.0   \n",
       "1     -83.3     -61.0        -90.0       -87.1 -87.1     -89.0   -87.0   \n",
       "2     -83.3     -55.0        -90.0       -87.1 -87.1     -88.0   -87.0   \n",
       "3     -87.0     -55.0        -88.0       -87.1 -87.1     -87.0   -91.0   \n",
       "4     -89.0     -60.0        -89.0       -87.1 -87.1     -87.0   -87.0   \n",
       "\n",
       "   CMP_LAB1  CMP_LAB2  location  \n",
       "0     -74.0     -76.6         2  \n",
       "1     -74.0     -76.6         2  \n",
       "2     -74.0     -76.6         2  \n",
       "3     -74.0     -76.6         2  \n",
       "4     -74.0     -76.6         2  "
      ]
     },
     "execution_count": 13,
     "metadata": {},
     "output_type": "execute_result"
    }
   ],
   "source": [
    "df_lab.head()"
   ]
  },
  {
   "cell_type": "code",
   "execution_count": 14,
   "metadata": {},
   "outputs": [
    {
     "data": {
      "text/html": [
       "<div>\n",
       "<style scoped>\n",
       "    .dataframe tbody tr th:only-of-type {\n",
       "        vertical-align: middle;\n",
       "    }\n",
       "\n",
       "    .dataframe tbody tr th {\n",
       "        vertical-align: top;\n",
       "    }\n",
       "\n",
       "    .dataframe thead th {\n",
       "        text-align: right;\n",
       "    }\n",
       "</style>\n",
       "<table border=\"1\" class=\"dataframe\">\n",
       "  <thead>\n",
       "    <tr style=\"text-align: right;\">\n",
       "      <th></th>\n",
       "      <th>StudBME1</th>\n",
       "      <th>STUDBME2</th>\n",
       "      <th>SBME_STAFF3</th>\n",
       "      <th>SBME_STAFF</th>\n",
       "      <th>CUFE</th>\n",
       "      <th>RehabLab</th>\n",
       "      <th>lab001</th>\n",
       "      <th>CMP_LAB1</th>\n",
       "      <th>CMP_LAB2</th>\n",
       "      <th>location</th>\n",
       "    </tr>\n",
       "  </thead>\n",
       "  <tbody>\n",
       "    <tr>\n",
       "      <th>0</th>\n",
       "      <td>-80.0</td>\n",
       "      <td>-70.5</td>\n",
       "      <td>-89.7</td>\n",
       "      <td>-86.1</td>\n",
       "      <td>-87.9</td>\n",
       "      <td>-89.6</td>\n",
       "      <td>-87.5</td>\n",
       "      <td>-81.0</td>\n",
       "      <td>-86.0</td>\n",
       "      <td>1</td>\n",
       "    </tr>\n",
       "    <tr>\n",
       "      <th>1</th>\n",
       "      <td>-81.0</td>\n",
       "      <td>-70.5</td>\n",
       "      <td>-89.7</td>\n",
       "      <td>-84.0</td>\n",
       "      <td>-88.0</td>\n",
       "      <td>-89.6</td>\n",
       "      <td>-87.5</td>\n",
       "      <td>-83.0</td>\n",
       "      <td>-83.0</td>\n",
       "      <td>1</td>\n",
       "    </tr>\n",
       "    <tr>\n",
       "      <th>2</th>\n",
       "      <td>-69.0</td>\n",
       "      <td>-69.0</td>\n",
       "      <td>-88.0</td>\n",
       "      <td>-82.0</td>\n",
       "      <td>-88.0</td>\n",
       "      <td>-89.6</td>\n",
       "      <td>-82.0</td>\n",
       "      <td>-82.0</td>\n",
       "      <td>-84.0</td>\n",
       "      <td>1</td>\n",
       "    </tr>\n",
       "    <tr>\n",
       "      <th>3</th>\n",
       "      <td>-73.0</td>\n",
       "      <td>-73.0</td>\n",
       "      <td>-90.0</td>\n",
       "      <td>-84.0</td>\n",
       "      <td>-88.0</td>\n",
       "      <td>-89.6</td>\n",
       "      <td>-90.0</td>\n",
       "      <td>-82.0</td>\n",
       "      <td>-84.0</td>\n",
       "      <td>1</td>\n",
       "    </tr>\n",
       "    <tr>\n",
       "      <th>4</th>\n",
       "      <td>-73.0</td>\n",
       "      <td>-67.0</td>\n",
       "      <td>-90.0</td>\n",
       "      <td>-76.0</td>\n",
       "      <td>-89.0</td>\n",
       "      <td>-93.0</td>\n",
       "      <td>-87.0</td>\n",
       "      <td>-82.0</td>\n",
       "      <td>-84.0</td>\n",
       "      <td>1</td>\n",
       "    </tr>\n",
       "  </tbody>\n",
       "</table>\n",
       "</div>"
      ],
      "text/plain": [
       "   StudBME1  STUDBME2  SBME_STAFF3  SBME_STAFF  CUFE  RehabLab  lab001  \\\n",
       "0     -80.0     -70.5        -89.7       -86.1 -87.9     -89.6   -87.5   \n",
       "1     -81.0     -70.5        -89.7       -84.0 -88.0     -89.6   -87.5   \n",
       "2     -69.0     -69.0        -88.0       -82.0 -88.0     -89.6   -82.0   \n",
       "3     -73.0     -73.0        -90.0       -84.0 -88.0     -89.6   -90.0   \n",
       "4     -73.0     -67.0        -90.0       -76.0 -89.0     -93.0   -87.0   \n",
       "\n",
       "   CMP_LAB1  CMP_LAB2  location  \n",
       "0     -81.0     -86.0         1  \n",
       "1     -83.0     -83.0         1  \n",
       "2     -82.0     -84.0         1  \n",
       "3     -82.0     -84.0         1  \n",
       "4     -82.0     -84.0         1  "
      ]
     },
     "execution_count": 14,
     "metadata": {},
     "output_type": "execute_result"
    }
   ],
   "source": [
    "df_ta.head()"
   ]
  },
  {
   "cell_type": "code",
   "execution_count": 15,
   "metadata": {},
   "outputs": [
    {
     "name": "stdout",
     "output_type": "stream",
     "text": [
      "<class 'pandas.core.frame.DataFrame'>\n",
      "RangeIndex: 300 entries, 0 to 299\n",
      "Data columns (total 10 columns):\n",
      " #   Column       Non-Null Count  Dtype  \n",
      "---  ------       --------------  -----  \n",
      " 0   StudBME1     300 non-null    float64\n",
      " 1   STUDBME2     300 non-null    float64\n",
      " 2   SBME_STAFF3  300 non-null    float64\n",
      " 3   SBME_STAFF   300 non-null    float64\n",
      " 4   CUFE         300 non-null    float64\n",
      " 5   RehabLab     300 non-null    float64\n",
      " 6   lab001       300 non-null    float64\n",
      " 7   CMP_LAB1     300 non-null    float64\n",
      " 8   CMP_LAB2     300 non-null    float64\n",
      " 9   location     300 non-null    int64  \n",
      "dtypes: float64(9), int64(1)\n",
      "memory usage: 23.6 KB\n"
     ]
    }
   ],
   "source": [
    "df = pd.concat([df_lab, df_ta], ignore_index=True)\n",
    "df.info()"
   ]
  },
  {
   "cell_type": "markdown",
   "metadata": {},
   "source": [
    "<a id='model'></a>\n",
    "## Building the Model "
   ]
  },
  {
   "cell_type": "code",
   "execution_count": 46,
   "metadata": {},
   "outputs": [],
   "source": [
    "# Importations \n",
    "from sklearn.model_selection import train_test_split, GridSearchCV, cross_validate\n",
    "from sklearn.linear_model import LogisticRegression\n",
    "from sklearn.neighbors import KNeighborsClassifier\n",
    "from sklearn.naive_bayes import GaussianNB\n",
    "from sklearn.tree import DecisionTreeClassifier\n",
    "from sklearn.ensemble import RandomForestClassifier\n",
    "from sklearn.ensemble import AdaBoostClassifier\n",
    "from sklearn import datasets\n",
    "from sklearn.svm import SVC\n",
    "from sklearn.metrics import precision_score, recall_score, confusion_matrix, roc_auc_score, classification_report"
   ]
  },
  {
   "cell_type": "code",
   "execution_count": 47,
   "metadata": {},
   "outputs": [],
   "source": [
    "# Get target and feautre variables \n",
    "X = df.iloc[:, :-1].values\n",
    "y = df.iloc[:, -1].values"
   ]
  },
  {
   "cell_type": "code",
   "execution_count": 18,
   "metadata": {},
   "outputs": [],
   "source": [
    "classifiers = {\n",
    "    'knn': KNeighborsClassifier(5),\n",
    "    'NB': GaussianNB(),\n",
    "    'tree': DecisionTreeClassifier(max_depth=5),\n",
    "    'forest': RandomForestClassifier(n_estimators=10, max_depth=5),\n",
    "    'SV': SVC(probability=True),\n",
    "    'LR': LogisticRegression(solver='newton-cg')\n",
    "}"
   ]
  },
  {
   "cell_type": "code",
   "execution_count": 19,
   "metadata": {},
   "outputs": [],
   "source": [
    "X_train, X_test, y_train, y_test = train_test_split(X, y, test_size=0.2, random_state=42)"
   ]
  },
  {
   "cell_type": "code",
   "execution_count": 20,
   "metadata": {},
   "outputs": [
    {
     "data": {
      "text/plain": [
       "2    120\n",
       "1    120\n",
       "dtype: int64"
      ]
     },
     "execution_count": 20,
     "metadata": {},
     "output_type": "execute_result"
    }
   ],
   "source": [
    "# Check Balancing \n",
    "pd.Series(y_train).value_counts()"
   ]
  },
  {
   "cell_type": "code",
   "execution_count": 23,
   "metadata": {
    "scrolled": true
   },
   "outputs": [
    {
     "data": {
      "text/plain": [
       "array([[-86. , -72. , -91. , ..., -86. , -80. , -86. ],\n",
       "       [-78. , -65. , -87. , ..., -85. , -74. , -76. ],\n",
       "       [-89. , -59. , -87. , ..., -87. , -74. , -76.6],\n",
       "       ...,\n",
       "       [-78. , -55. , -91. , ..., -82. , -73. , -84. ],\n",
       "       [-74. , -69. , -91. , ..., -94. , -87. , -86. ],\n",
       "       [-84. , -60. , -89. , ..., -80. , -73. , -84. ]])"
      ]
     },
     "execution_count": 23,
     "metadata": {},
     "output_type": "execute_result"
    }
   ],
   "source": [
    "X_train"
   ]
  },
  {
   "cell_type": "code",
   "execution_count": 50,
   "metadata": {},
   "outputs": [
    {
     "name": "stdout",
     "output_type": "stream",
     "text": [
      "Training knn model .. \n",
      "test_f1_weighted 0.9833043478260871\n",
      "test_roc_auc_ovr 0.9958333333333333\n",
      "test_precicison 0.9846153846153847\n",
      "test_recall 0.9833333333333334\n",
      "accuracy 0.9833333333333334\n",
      "\n",
      "\n",
      "Training NB model .. \n",
      "test_f1_weighted 0.9749710144927537\n",
      "test_roc_auc_ovr 0.9979166666666666\n",
      "test_precicison 0.9762820512820513\n",
      "test_recall 0.9750000000000002\n",
      "accuracy 0.9750000000000002\n",
      "\n",
      "\n",
      "Training tree model .. \n",
      "test_f1_weighted 0.9707388263910003\n",
      "test_roc_auc_ovr 0.9708333333333334\n",
      "test_precicison 0.9736263736263735\n",
      "test_recall 0.9708333333333334\n",
      "accuracy 0.9708333333333334\n",
      "\n",
      "\n",
      "Training forest model .. \n",
      "test_f1_weighted 0.979144927536232\n",
      "test_roc_auc_ovr 0.9958333333333332\n",
      "test_precicison 0.9801282051282051\n",
      "test_recall 0.9791666666666667\n",
      "accuracy 0.9791666666666667\n",
      "\n",
      "\n",
      "Training SV model .. \n",
      "test_f1_weighted 0.9833043478260871\n",
      "test_roc_auc_ovr 0.9958333333333332\n",
      "test_precicison 0.9846153846153847\n",
      "test_recall 0.9833333333333334\n",
      "accuracy 0.9833333333333334\n",
      "\n",
      "\n",
      "Training LR model .. \n",
      "test_f1_weighted 0.9749565217391305\n",
      "test_roc_auc_ovr 0.9944444444444445\n",
      "test_precicison 0.976923076923077\n",
      "test_recall 0.9750000000000002\n",
      "accuracy 0.9750000000000002\n",
      "\n",
      "\n"
     ]
    }
   ],
   "source": [
    "# Metrics \n",
    "metrics = ['accuracy', 'f1_weighted', 'roc_auc_ovr', 'precision_weighted', 'recall_weighted']\n",
    "\n",
    "# Cross Validate the models \n",
    "scores = {}\n",
    "for name, clf in classifiers.items():\n",
    "    print(f'Training {name} model .. ')\n",
    "    res = cross_validate(clf, X_train, y_train, cv=10, scoring=metrics, return_estimator=True)\n",
    "#     print(res)\n",
    "    \n",
    "    score = {\"test_f1_weighted\": np.mean(res['test_f1_weighted']), \n",
    "             'test_roc_auc_ovr': np.mean(res['test_roc_auc_ovr']), \n",
    "             'test_precision_weighted': np.mean(res['test_precision_weighted']),\n",
    "             'test_recall_weighted': np.mean(res['test_recall_weighted']),\n",
    "             'test_accuracy': np.mean(res['test_accuracy']),\n",
    "             'estimator': res['estimator'][0]\n",
    "            }\n",
    "    \n",
    "    print(\"test_f1_weighted\", score['test_f1_weighted'])\n",
    "    print('test_roc_auc_ovr', score['test_roc_auc_ovr'])\n",
    "    print('test_precicison', score['test_precision_weighted'])\n",
    "    print('test_recall', score['test_recall_weighted'])\n",
    "    print('accuracy', score['test_accuracy'])\n",
    "    print('\\n')\n",
    "    \n",
    "    # Add each model`s scores to scores\n",
    "    scores[name] = score"
   ]
  },
  {
   "cell_type": "markdown",
   "metadata": {},
   "source": [
    "### Desicion "
   ]
  },
  {
   "cell_type": "markdown",
   "metadata": {},
   "source": [
    "According to our application we decided to choose our model according to the F1 Score"
   ]
  },
  {
   "cell_type": "code",
   "execution_count": 54,
   "metadata": {},
   "outputs": [
    {
     "name": "stdout",
     "output_type": "stream",
     "text": [
      "The best estimator is knn with Score 0.9833043478260871 (test_f1_weighted)\n"
     ]
    }
   ],
   "source": [
    "# Find the best estimator according to one metric\n",
    "choosen = 'test_f1_weighted'\n",
    "best_metric = [(name, res[choosen]) for name, res in scores.items()]\n",
    "best_estimator = max(best_metric, key=lambda x: x[1])\n",
    "print(f\"The best estimator is {best_estimator[0]} with Score {best_estimator[1]} ({choosen})\")"
   ]
  },
  {
   "cell_type": "code",
   "execution_count": 58,
   "metadata": {},
   "outputs": [],
   "source": [
    "# Fetch Estimator Object\n",
    "choosen_estimator = scores[best_estimator[0]]['estimator']"
   ]
  },
  {
   "cell_type": "code",
   "execution_count": 59,
   "metadata": {},
   "outputs": [],
   "source": [
    "# Predict Using the choosen estimator \n",
    "res = choosen_estimator.predict(X_test)"
   ]
  },
  {
   "cell_type": "markdown",
   "metadata": {},
   "source": [
    "#### Reporting the results "
   ]
  },
  {
   "cell_type": "code",
   "execution_count": 62,
   "metadata": {},
   "outputs": [
    {
     "data": {
      "text/plain": [
       "array([[30,  1],\n",
       "       [ 0, 29]])"
      ]
     },
     "execution_count": 62,
     "metadata": {},
     "output_type": "execute_result"
    }
   ],
   "source": [
    "# Print the confusion matrix\n",
    "confusion_matrix(y_test, res)"
   ]
  },
  {
   "cell_type": "code",
   "execution_count": 63,
   "metadata": {},
   "outputs": [
    {
     "name": "stdout",
     "output_type": "stream",
     "text": [
      "              precision    recall  f1-score   support\n",
      "\n",
      "           1       1.00      0.97      0.98        31\n",
      "           2       0.97      1.00      0.98        29\n",
      "\n",
      "    accuracy                           0.98        60\n",
      "   macro avg       0.98      0.98      0.98        60\n",
      "weighted avg       0.98      0.98      0.98        60\n",
      "\n"
     ]
    }
   ],
   "source": [
    "# Show The classification Report\n",
    "print(classification_report(y_test, res))"
   ]
  },
  {
   "cell_type": "code",
   "execution_count": 65,
   "metadata": {},
   "outputs": [],
   "source": [
    "# Save the model \n",
    "from joblib import dump"
   ]
  },
  {
   "cell_type": "code",
   "execution_count": 66,
   "metadata": {},
   "outputs": [
    {
     "data": {
      "text/plain": [
       "['model.joblib']"
      ]
     },
     "execution_count": 66,
     "metadata": {},
     "output_type": "execute_result"
    }
   ],
   "source": [
    "dump(choosen_estimator, 'model.joblib')"
   ]
  }
 ],
 "metadata": {
  "kernelspec": {
   "display_name": "Python 3",
   "language": "python",
   "name": "python3"
  },
  "language_info": {
   "codemirror_mode": {
    "name": "ipython",
    "version": 3
   },
   "file_extension": ".py",
   "mimetype": "text/x-python",
   "name": "python",
   "nbconvert_exporter": "python",
   "pygments_lexer": "ipython3",
   "version": "3.8.3"
  }
 },
 "nbformat": 4,
 "nbformat_minor": 4
}
