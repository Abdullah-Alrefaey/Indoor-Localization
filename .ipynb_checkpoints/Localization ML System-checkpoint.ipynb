{
 "cells": [
  {
   "cell_type": "markdown",
   "metadata": {},
   "source": [
    "# Localization System"
   ]
  },
  {
   "cell_type": "markdown",
   "metadata": {},
   "source": [
    "## Table of Content \n",
    "<ul>\n",
    "<li><a href=\"#intro\">Introduction</a></li>\n",
    "<!-- <li><a href=\"#wrangling\">Data Wrangling</a></li> -->\n",
    "<!-- <li><a href=\"#eda\">Exploratory Data Analysis</a></li> -->\n",
    "<li><a href=\"#model\"> Building a model </a></li>\n",
    "</ul>"
   ]
  },
  {
   "cell_type": "markdown",
   "metadata": {},
   "source": [
    "<a id='intro'></a>\n",
    "## Introduction \n",
    "Localziation systems built using machine learning classifiers, data is collected at Cairo University Faculty of \n",
    "engineering Biomedical Engineering Department. The Data is a collection of WiFi\\`s strenghts (dbm) of 3 Wifi Networks available in the department. Identifying a patient\\`s location in a hospital is useful for many reasons one of which is to identify points of conjestions and try to rearrange the hospital survices, also used to identify how many patients are in the hospital. \n",
    "\n",
    "So We are going to dive into our gathered data and invetigate our findings. "
   ]
  },
  {
   "cell_type": "markdown",
   "metadata": {},
   "source": [
    "<a id='model'></a>\n",
    "## Building the Model "
   ]
  },
  {
   "cell_type": "code",
   "execution_count": 42,
   "metadata": {},
   "outputs": [],
   "source": [
    "# Importations \n",
    "import pandas as pd \n",
    "import numpy as np\n",
    "from sklearn.model_selection import train_test_split, GridSearchCV, cross_validate\n",
    "from sklearn.linear_model import LogisticRegression\n",
    "from sklearn.neighbors import KNeighborsClassifier\n",
    "from sklearn.naive_bayes import GaussianNB\n",
    "from sklearn.tree import DecisionTreeClassifier\n",
    "from sklearn.ensemble import RandomForestClassifier\n",
    "from sklearn import datasets\n",
    "from sklearn.svm import SVC\n",
    "from sklearn.metrics import precision_score, recall_score, confusion_matrix, roc_auc_score"
   ]
  },
  {
   "cell_type": "code",
   "execution_count": 56,
   "metadata": {},
   "outputs": [],
   "source": [
    "iris = datasets.load_iris()\n",
    "X = iris['data']\n",
    "y = iris['target']"
   ]
  },
  {
   "cell_type": "code",
   "execution_count": 76,
   "metadata": {},
   "outputs": [
    {
     "data": {
      "text/html": [
       "<div>\n",
       "<style scoped>\n",
       "    .dataframe tbody tr th:only-of-type {\n",
       "        vertical-align: middle;\n",
       "    }\n",
       "\n",
       "    .dataframe tbody tr th {\n",
       "        vertical-align: top;\n",
       "    }\n",
       "\n",
       "    .dataframe thead th {\n",
       "        text-align: right;\n",
       "    }\n",
       "</style>\n",
       "<table border=\"1\" class=\"dataframe\">\n",
       "  <thead>\n",
       "    <tr style=\"text-align: right;\">\n",
       "      <th></th>\n",
       "      <th>0</th>\n",
       "      <th>1</th>\n",
       "      <th>2</th>\n",
       "      <th>3</th>\n",
       "    </tr>\n",
       "  </thead>\n",
       "  <tbody>\n",
       "    <tr>\n",
       "      <th>0</th>\n",
       "      <td>5.1</td>\n",
       "      <td>3.5</td>\n",
       "      <td>1.4</td>\n",
       "      <td>0.2</td>\n",
       "    </tr>\n",
       "    <tr>\n",
       "      <th>1</th>\n",
       "      <td>4.9</td>\n",
       "      <td>3.0</td>\n",
       "      <td>1.4</td>\n",
       "      <td>0.2</td>\n",
       "    </tr>\n",
       "    <tr>\n",
       "      <th>2</th>\n",
       "      <td>4.7</td>\n",
       "      <td>3.2</td>\n",
       "      <td>1.3</td>\n",
       "      <td>0.2</td>\n",
       "    </tr>\n",
       "    <tr>\n",
       "      <th>3</th>\n",
       "      <td>4.6</td>\n",
       "      <td>3.1</td>\n",
       "      <td>1.5</td>\n",
       "      <td>0.2</td>\n",
       "    </tr>\n",
       "    <tr>\n",
       "      <th>4</th>\n",
       "      <td>5.0</td>\n",
       "      <td>3.6</td>\n",
       "      <td>1.4</td>\n",
       "      <td>0.2</td>\n",
       "    </tr>\n",
       "    <tr>\n",
       "      <th>...</th>\n",
       "      <td>...</td>\n",
       "      <td>...</td>\n",
       "      <td>...</td>\n",
       "      <td>...</td>\n",
       "    </tr>\n",
       "    <tr>\n",
       "      <th>145</th>\n",
       "      <td>6.7</td>\n",
       "      <td>3.0</td>\n",
       "      <td>5.2</td>\n",
       "      <td>2.3</td>\n",
       "    </tr>\n",
       "    <tr>\n",
       "      <th>146</th>\n",
       "      <td>6.3</td>\n",
       "      <td>2.5</td>\n",
       "      <td>5.0</td>\n",
       "      <td>1.9</td>\n",
       "    </tr>\n",
       "    <tr>\n",
       "      <th>147</th>\n",
       "      <td>6.5</td>\n",
       "      <td>3.0</td>\n",
       "      <td>5.2</td>\n",
       "      <td>2.0</td>\n",
       "    </tr>\n",
       "    <tr>\n",
       "      <th>148</th>\n",
       "      <td>6.2</td>\n",
       "      <td>3.4</td>\n",
       "      <td>5.4</td>\n",
       "      <td>2.3</td>\n",
       "    </tr>\n",
       "    <tr>\n",
       "      <th>149</th>\n",
       "      <td>5.9</td>\n",
       "      <td>3.0</td>\n",
       "      <td>5.1</td>\n",
       "      <td>1.8</td>\n",
       "    </tr>\n",
       "  </tbody>\n",
       "</table>\n",
       "<p>150 rows × 4 columns</p>\n",
       "</div>"
      ],
      "text/plain": [
       "       0    1    2    3\n",
       "0    5.1  3.5  1.4  0.2\n",
       "1    4.9  3.0  1.4  0.2\n",
       "2    4.7  3.2  1.3  0.2\n",
       "3    4.6  3.1  1.5  0.2\n",
       "4    5.0  3.6  1.4  0.2\n",
       "..   ...  ...  ...  ...\n",
       "145  6.7  3.0  5.2  2.3\n",
       "146  6.3  2.5  5.0  1.9\n",
       "147  6.5  3.0  5.2  2.0\n",
       "148  6.2  3.4  5.4  2.3\n",
       "149  5.9  3.0  5.1  1.8\n",
       "\n",
       "[150 rows x 4 columns]"
      ]
     },
     "execution_count": 76,
     "metadata": {},
     "output_type": "execute_result"
    }
   ],
   "source": [
    "pd.DataFrame(X)"
   ]
  },
  {
   "cell_type": "code",
   "execution_count": 57,
   "metadata": {},
   "outputs": [],
   "source": [
    "classifiers = {\n",
    "    'knn': KNeighborsClassifier(5),\n",
    "    'NB': GaussianNB(),\n",
    "    'tree': DecisionTreeClassifier(max_depth=5),\n",
    "    'forest': RandomForestClassifier(n_estimators=10, max_depth=5),\n",
    "    'SV': SVC(probability=True),\n",
    "    'LR': LogisticRegression(solver='newton-cg')\n",
    "}"
   ]
  },
  {
   "cell_type": "code",
   "execution_count": 58,
   "metadata": {},
   "outputs": [],
   "source": [
    "X_train, X_test, y_train, y_test = train_test_split(X, y, test_size=0.2, random_state=42)"
   ]
  },
  {
   "cell_type": "code",
   "execution_count": 73,
   "metadata": {},
   "outputs": [
    {
     "data": {
      "text/plain": [
       "1    41\n",
       "0    40\n",
       "2    39\n",
       "dtype: int64"
      ]
     },
     "execution_count": 73,
     "metadata": {},
     "output_type": "execute_result"
    }
   ],
   "source": [
    "pd.Series(y_train).value_counts()"
   ]
  },
  {
   "cell_type": "code",
   "execution_count": 82,
   "metadata": {},
   "outputs": [
    {
     "name": "stdout",
     "output_type": "stream",
     "text": [
      "Training knn model .. \n",
      "test_f1_weighted 0.9387253487253489\n",
      "test_roc_auc_ovr 0.9791666666666666\n",
      "test_precicison 0.9574999999999999\n",
      "test_recall 0.9416666666666667\n",
      "accuracy 0.9416666666666667\n",
      "\n",
      "\n",
      "Training NB model .. \n",
      "test_f1_weighted 0.9404184704184704\n",
      "test_roc_auc_ovr 0.9916666666666666\n",
      "test_precicison 0.9486111111111111\n",
      "test_recall 0.9416666666666667\n",
      "accuracy 0.9416666666666667\n",
      "\n",
      "\n",
      "Training tree model .. \n",
      "test_f1_weighted 0.9147041847041848\n",
      "test_roc_auc_ovr 0.95\n",
      "test_precicison 0.9286111111111112\n",
      "test_recall 0.9166666666666666\n",
      "accuracy 0.9166666666666666\n",
      "\n",
      "\n",
      "Training forest model .. \n",
      "test_f1_weighted 0.9316354016354016\n",
      "test_roc_auc_ovr 0.9817708333333334\n",
      "test_precicison 0.9419444444444445\n",
      "test_recall 0.9333333333333332\n",
      "accuracy 0.9333333333333332\n",
      "\n",
      "\n",
      "Training SV model .. \n",
      "test_f1_weighted 0.9475132275132274\n",
      "test_roc_auc_ovr 1.0\n",
      "test_precicison 0.9644444444444444\n",
      "test_recall 0.95\n",
      "accuracy 0.95\n",
      "\n",
      "\n",
      "Training LR model .. \n",
      "test_f1_weighted 0.9483597883597884\n",
      "test_roc_auc_ovr 0.9958333333333333\n",
      "test_precicison 0.9577777777777777\n",
      "test_recall 0.95\n",
      "accuracy 0.95\n",
      "\n",
      "\n"
     ]
    }
   ],
   "source": [
    "# Metrics \n",
    "metrics = ['accuracy', 'f1_weighted', 'roc_auc_ovr', 'precision_weighted', 'recall_weighted']\n",
    "\n",
    "# Cross Validate the models \n",
    "scores = {}\n",
    "for name, clf in classifiers.items():\n",
    "    print(f'Training {name} model .. ')\n",
    "    res = cross_validate(clf, X_train, y_train, cv=10, scoring=metrics)\n",
    "    \n",
    "    score = {\"test_f1_weighted\": np.mean(res['test_f1_weighted']), \n",
    "             'test_roc_auc_ovr': np.mean(res['test_roc_auc_ovr']), \n",
    "             'test_precision_weighted': np.mean(res['test_precision_weighted']),\n",
    "             'test_recall_weighted': np.mean(res['test_recall_weighted']),\n",
    "             'test_accuracy': np.mean(res['test_accuracy'])\n",
    "            }\n",
    "    \n",
    "    print(\"test_f1_weighted\", score['test_f1_weighted'])\n",
    "    print('test_roc_auc_ovr', score['test_roc_auc_ovr'])\n",
    "    print('test_precicison', score['test_precision_weighted'])\n",
    "    print('test_recall', score['test_recall_weighted'])\n",
    "    print('accuracy', score['test_accuracy'])\n",
    "    print('\\n')\n",
    "    \n",
    "    # Add each model`s scores to scores\n",
    "    scores[name] = score"
   ]
  },
  {
   "cell_type": "code",
   "execution_count": 85,
   "metadata": {},
   "outputs": [
    {
     "name": "stdout",
     "output_type": "stream",
     "text": [
      "{'test_f1_weighted': 0.9387253487253489, 'test_roc_auc_ovr': 0.9791666666666666, 'test_precision_weighted': 0.9574999999999999, 'test_recall_weighted': 0.9416666666666667, 'test_accuracy': 0.9416666666666667}\n",
      "{'test_f1_weighted': 0.9404184704184704, 'test_roc_auc_ovr': 0.9916666666666666, 'test_precision_weighted': 0.9486111111111111, 'test_recall_weighted': 0.9416666666666667, 'test_accuracy': 0.9416666666666667}\n",
      "{'test_f1_weighted': 0.9147041847041848, 'test_roc_auc_ovr': 0.95, 'test_precision_weighted': 0.9286111111111112, 'test_recall_weighted': 0.9166666666666666, 'test_accuracy': 0.9166666666666666}\n",
      "{'test_f1_weighted': 0.9316354016354016, 'test_roc_auc_ovr': 0.9817708333333334, 'test_precision_weighted': 0.9419444444444445, 'test_recall_weighted': 0.9333333333333332, 'test_accuracy': 0.9333333333333332}\n",
      "{'test_f1_weighted': 0.9475132275132274, 'test_roc_auc_ovr': 1.0, 'test_precision_weighted': 0.9644444444444444, 'test_recall_weighted': 0.95, 'test_accuracy': 0.95}\n",
      "{'test_f1_weighted': 0.9483597883597884, 'test_roc_auc_ovr': 0.9958333333333333, 'test_precision_weighted': 0.9577777777777777, 'test_recall_weighted': 0.95, 'test_accuracy': 0.95}\n"
     ]
    }
   ],
   "source": [
    "models = []\n",
    "thresholds = {\"test_f1_weighted\": 97.0, \n",
    "              'test_roc_auc_ovr': 97.0,\n",
    "              'test_precision_weighted': 97.0,\n",
    "              'test_recall_weighted': 97.0,\n",
    "              'test_accuracy': 97.0}\n",
    "\n",
    "for clf, results in scores.items():\n",
    "    pass"
   ]
  },
  {
   "cell_type": "code",
   "execution_count": null,
   "metadata": {},
   "outputs": [],
   "source": []
  }
 ],
 "metadata": {
  "kernelspec": {
   "display_name": "Python 3",
   "language": "python",
   "name": "python3"
  },
  "language_info": {
   "codemirror_mode": {
    "name": "ipython",
    "version": 3
   },
   "file_extension": ".py",
   "mimetype": "text/x-python",
   "name": "python",
   "nbconvert_exporter": "python",
   "pygments_lexer": "ipython3",
   "version": "3.8.3"
  }
 },
 "nbformat": 4,
 "nbformat_minor": 4
}
